{
 "cells": [
  {
   "cell_type": "code",
   "execution_count": 1,
   "metadata": {},
   "outputs": [],
   "source": [
    "!jt -t oceans16"
   ]
  },
  {
   "cell_type": "code",
   "execution_count": 1,
   "metadata": {},
   "outputs": [],
   "source": [
    "import numpy as np \n",
    "import matplotlib.pyplot as plt \n",
    "import matplotlib.colors as mcolors\n",
    "import pandas as pd \n",
    "import random\n",
    "import math\n",
    "import time\n",
    "from sklearn.linear_model import LinearRegression, BayesianRidge\n",
    "from sklearn.model_selection import RandomizedSearchCV, train_test_split\n",
    "from sklearn.preprocessing import PolynomialFeatures\n",
    "from sklearn.tree import DecisionTreeRegressor\n",
    "from sklearn.svm import SVR\n",
    "from sklearn.svm import SVC\n",
    "from sklearn.metrics import mean_squared_error, mean_absolute_error\n",
    "import datetime\n",
    "import operator \n",
    "plt.style.use('fivethirtyeight')\n",
    "%matplotlib inline"
   ]
  },
  {
   "cell_type": "code",
   "execution_count": 2,
   "metadata": {},
   "outputs": [],
   "source": [
    "confirmed_df = pd.read_csv('total_casesAPRIL.csv')\n",
    "deaths_df = pd.read_csv('death_cases_APRIL.csv')\n",
    "recoveries_df = pd.read_csv('recovered_cases_APRIL.csv')"
   ]
  },
  {
   "cell_type": "code",
   "execution_count": 4,
   "metadata": {},
   "outputs": [
    {
     "data": {
      "text/html": [
       "<div>\n",
       "<style scoped>\n",
       "    .dataframe tbody tr th:only-of-type {\n",
       "        vertical-align: middle;\n",
       "    }\n",
       "\n",
       "    .dataframe tbody tr th {\n",
       "        vertical-align: top;\n",
       "    }\n",
       "\n",
       "    .dataframe thead th {\n",
       "        text-align: right;\n",
       "    }\n",
       "</style>\n",
       "<table border=\"1\" class=\"dataframe\">\n",
       "  <thead>\n",
       "    <tr style=\"text-align: right;\">\n",
       "      <th></th>\n",
       "      <th>Unnamed: 0</th>\n",
       "      <th>04/01/2020</th>\n",
       "      <th>04/02/2020</th>\n",
       "      <th>04/03/2020</th>\n",
       "      <th>04/04/2020</th>\n",
       "      <th>04/05/2020</th>\n",
       "      <th>04/06/2020</th>\n",
       "      <th>04/07/2020</th>\n",
       "      <th>04/08/2020</th>\n",
       "      <th>04/09/2020</th>\n",
       "      <th>...</th>\n",
       "      <th>05/22/2020</th>\n",
       "      <th>05/23/2020</th>\n",
       "      <th>05/24/2020</th>\n",
       "      <th>05/25/2020</th>\n",
       "      <th>05/26/2020</th>\n",
       "      <th>05/27/2020</th>\n",
       "      <th>05/28/2020</th>\n",
       "      <th>05/29/2020</th>\n",
       "      <th>05/30/2020</th>\n",
       "      <th>05/31/2020</th>\n",
       "    </tr>\n",
       "  </thead>\n",
       "  <tbody>\n",
       "    <tr>\n",
       "      <th>0</th>\n",
       "      <td>KARNATAKA</td>\n",
       "      <td>0</td>\n",
       "      <td>4</td>\n",
       "      <td>8</td>\n",
       "      <td>11</td>\n",
       "      <td>15</td>\n",
       "      <td>20</td>\n",
       "      <td>33</td>\n",
       "      <td>44</td>\n",
       "      <td>52</td>\n",
       "      <td>...</td>\n",
       "      <td>1605</td>\n",
       "      <td>1743</td>\n",
       "      <td>1959</td>\n",
       "      <td>2089</td>\n",
       "      <td>2182</td>\n",
       "      <td>2283</td>\n",
       "      <td>2418</td>\n",
       "      <td>2533</td>\n",
       "      <td>2781</td>\n",
       "      <td>2925</td>\n",
       "    </tr>\n",
       "  </tbody>\n",
       "</table>\n",
       "<p>1 rows × 62 columns</p>\n",
       "</div>"
      ],
      "text/plain": [
       "  Unnamed: 0  04/01/2020  04/02/2020  04/03/2020  04/04/2020  04/05/2020  \\\n",
       "0  KARNATAKA           0           4           8          11          15   \n",
       "\n",
       "   04/06/2020  04/07/2020  04/08/2020  04/09/2020  ...  05/22/2020  \\\n",
       "0          20          33          44          52  ...        1605   \n",
       "\n",
       "   05/23/2020  05/24/2020  05/25/2020  05/26/2020  05/27/2020  05/28/2020  \\\n",
       "0        1743        1959        2089        2182        2283        2418   \n",
       "\n",
       "   05/29/2020  05/30/2020  05/31/2020  \n",
       "0        2533        2781        2925  \n",
       "\n",
       "[1 rows x 62 columns]"
      ]
     },
     "execution_count": 4,
     "metadata": {},
     "output_type": "execute_result"
    }
   ],
   "source": [
    "confirmed_df"
   ]
  },
  {
   "cell_type": "code",
   "execution_count": 5,
   "metadata": {},
   "outputs": [
    {
     "data": {
      "text/html": [
       "<div>\n",
       "<style scoped>\n",
       "    .dataframe tbody tr th:only-of-type {\n",
       "        vertical-align: middle;\n",
       "    }\n",
       "\n",
       "    .dataframe tbody tr th {\n",
       "        vertical-align: top;\n",
       "    }\n",
       "\n",
       "    .dataframe thead th {\n",
       "        text-align: right;\n",
       "    }\n",
       "</style>\n",
       "<table border=\"1\" class=\"dataframe\">\n",
       "  <thead>\n",
       "    <tr style=\"text-align: right;\">\n",
       "      <th></th>\n",
       "      <th>Unnamed: 0</th>\n",
       "      <th>04/01/2020</th>\n",
       "      <th>04/02/2020</th>\n",
       "      <th>04/03/2020</th>\n",
       "      <th>04/04/2020</th>\n",
       "      <th>04/05/2020</th>\n",
       "      <th>04/06/2020</th>\n",
       "      <th>04/07/2020</th>\n",
       "      <th>04/08/2020</th>\n",
       "      <th>04/09/2020</th>\n",
       "      <th>...</th>\n",
       "      <th>05/22/2020</th>\n",
       "      <th>05/23/2020</th>\n",
       "      <th>05/24/2020</th>\n",
       "      <th>05/25/2020</th>\n",
       "      <th>05/26/2020</th>\n",
       "      <th>05/27/2020</th>\n",
       "      <th>05/28/2020</th>\n",
       "      <th>05/29/2020</th>\n",
       "      <th>05/30/2020</th>\n",
       "      <th>05/31/2020</th>\n",
       "    </tr>\n",
       "  </thead>\n",
       "  <tbody>\n",
       "    <tr>\n",
       "      <th>0</th>\n",
       "      <td>KARNATAKA</td>\n",
       "      <td>0</td>\n",
       "      <td>0</td>\n",
       "      <td>0</td>\n",
       "      <td>0</td>\n",
       "      <td>0</td>\n",
       "      <td>0</td>\n",
       "      <td>1</td>\n",
       "      <td>1</td>\n",
       "      <td>2</td>\n",
       "      <td>...</td>\n",
       "      <td>41</td>\n",
       "      <td>41</td>\n",
       "      <td>42</td>\n",
       "      <td>42</td>\n",
       "      <td>44</td>\n",
       "      <td>44</td>\n",
       "      <td>47</td>\n",
       "      <td>49</td>\n",
       "      <td>49</td>\n",
       "      <td>49</td>\n",
       "    </tr>\n",
       "  </tbody>\n",
       "</table>\n",
       "<p>1 rows × 62 columns</p>\n",
       "</div>"
      ],
      "text/plain": [
       "  Unnamed: 0  04/01/2020  04/02/2020  04/03/2020  04/04/2020  04/05/2020  \\\n",
       "0  KARNATAKA           0           0           0           0           0   \n",
       "\n",
       "   04/06/2020  04/07/2020  04/08/2020  04/09/2020  ...  05/22/2020  \\\n",
       "0           0           1           1           2  ...          41   \n",
       "\n",
       "   05/23/2020  05/24/2020  05/25/2020  05/26/2020  05/27/2020  05/28/2020  \\\n",
       "0          41          42          42          44          44          47   \n",
       "\n",
       "   05/29/2020  05/30/2020  05/31/2020  \n",
       "0          49          49          49  \n",
       "\n",
       "[1 rows x 62 columns]"
      ]
     },
     "execution_count": 5,
     "metadata": {},
     "output_type": "execute_result"
    }
   ],
   "source": [
    "deaths_df"
   ]
  },
  {
   "cell_type": "code",
   "execution_count": 6,
   "metadata": {},
   "outputs": [
    {
     "data": {
      "text/html": [
       "<div>\n",
       "<style scoped>\n",
       "    .dataframe tbody tr th:only-of-type {\n",
       "        vertical-align: middle;\n",
       "    }\n",
       "\n",
       "    .dataframe tbody tr th {\n",
       "        vertical-align: top;\n",
       "    }\n",
       "\n",
       "    .dataframe thead th {\n",
       "        text-align: right;\n",
       "    }\n",
       "</style>\n",
       "<table border=\"1\" class=\"dataframe\">\n",
       "  <thead>\n",
       "    <tr style=\"text-align: right;\">\n",
       "      <th></th>\n",
       "      <th>Unnamed: 0</th>\n",
       "      <th>04/01/2020</th>\n",
       "      <th>04/02/2020</th>\n",
       "      <th>04/03/2020</th>\n",
       "      <th>04/04/2020</th>\n",
       "      <th>04/05/2020</th>\n",
       "      <th>04/06/2020</th>\n",
       "      <th>04/07/2020</th>\n",
       "      <th>04/08/2020</th>\n",
       "      <th>04/09/2020</th>\n",
       "      <th>...</th>\n",
       "      <th>05/22/2020</th>\n",
       "      <th>05/23/2020</th>\n",
       "      <th>05/24/2020</th>\n",
       "      <th>05/25/2020</th>\n",
       "      <th>05/26/2020</th>\n",
       "      <th>05/27/2020</th>\n",
       "      <th>05/28/2020</th>\n",
       "      <th>05/29/2020</th>\n",
       "      <th>05/30/2020</th>\n",
       "      <th>05/31/2020</th>\n",
       "    </tr>\n",
       "  </thead>\n",
       "  <tbody>\n",
       "    <tr>\n",
       "      <th>0</th>\n",
       "      <td>KARNATAKA</td>\n",
       "      <td>0</td>\n",
       "      <td>0</td>\n",
       "      <td>1</td>\n",
       "      <td>1</td>\n",
       "      <td>1</td>\n",
       "      <td>1</td>\n",
       "      <td>2</td>\n",
       "      <td>3</td>\n",
       "      <td>4</td>\n",
       "      <td>...</td>\n",
       "      <td>571</td>\n",
       "      <td>597</td>\n",
       "      <td>608</td>\n",
       "      <td>654</td>\n",
       "      <td>705</td>\n",
       "      <td>748</td>\n",
       "      <td>781</td>\n",
       "      <td>834</td>\n",
       "      <td>894</td>\n",
       "      <td>997</td>\n",
       "    </tr>\n",
       "  </tbody>\n",
       "</table>\n",
       "<p>1 rows × 62 columns</p>\n",
       "</div>"
      ],
      "text/plain": [
       "  Unnamed: 0  04/01/2020  04/02/2020  04/03/2020  04/04/2020  04/05/2020  \\\n",
       "0  KARNATAKA           0           0           1           1           1   \n",
       "\n",
       "   04/06/2020  04/07/2020  04/08/2020  04/09/2020  ...  05/22/2020  \\\n",
       "0           1           2           3           4  ...         571   \n",
       "\n",
       "   05/23/2020  05/24/2020  05/25/2020  05/26/2020  05/27/2020  05/28/2020  \\\n",
       "0         597         608         654         705         748         781   \n",
       "\n",
       "   05/29/2020  05/30/2020  05/31/2020  \n",
       "0         834         894         997  \n",
       "\n",
       "[1 rows x 62 columns]"
      ]
     },
     "execution_count": 6,
     "metadata": {},
     "output_type": "execute_result"
    }
   ],
   "source": [
    "recoveries_df"
   ]
  },
  {
   "cell_type": "code",
   "execution_count": 7,
   "metadata": {},
   "outputs": [
    {
     "name": "stdout",
     "output_type": "stream",
     "text": [
      "Index(['Unnamed: 0', '04/01/2020', '04/02/2020', '04/03/2020', '04/04/2020',\n",
      "       '04/05/2020', '04/06/2020', '04/07/2020', '04/08/2020', '04/09/2020',\n",
      "       '04/10/2020', '04/11/2020', '04/12/2020', '04/13/2020', '04/14/2020',\n",
      "       '04/15/2020', '04/16/2020', '04/17/2020', '04/18/2020', '04/19/2020',\n",
      "       '04/20/2020', '04/21/2020', '04/22/2020', '04/23/2020', '04/24/2020',\n",
      "       '04/25/2020', '04/26/2020', '04/27/2020', '04/28/2020', '04/29/2020',\n",
      "       '04/30/2020', '05/01/2020', '05/02/2020', '05/03/2020', '05/04/2020',\n",
      "       '05/05/2020', '05/06/2020', '05/07/2020', '05/08/2020', '05/09/2020',\n",
      "       '05/10/2020', '05/11/2020', '05/12/2020', '05/13/2020', '05/14/2020',\n",
      "       '05/15/2020', '05/16/2020', '05/17/2020', '05/18/2020', '05/19/2020',\n",
      "       '05/20/2020', '05/21/2020', '05/22/2020', '05/23/2020', '05/24/2020',\n",
      "       '05/25/2020', '05/26/2020', '05/27/2020', '05/28/2020', '05/29/2020',\n",
      "       '05/30/2020', '05/31/2020'],\n",
      "      dtype='object')\n"
     ]
    }
   ],
   "source": [
    "cols = confirmed_df.keys()\n",
    "print(cols)"
   ]
  },
  {
   "cell_type": "code",
   "execution_count": 8,
   "metadata": {},
   "outputs": [],
   "source": [
    "confirmed = confirmed_df.loc[0, cols[1]:cols[-1]]"
   ]
  },
  {
   "cell_type": "code",
   "execution_count": 9,
   "metadata": {},
   "outputs": [],
   "source": [
    "deaths = deaths_df.loc[0, cols[1]:cols[-1]]"
   ]
  },
  {
   "cell_type": "code",
   "execution_count": 10,
   "metadata": {},
   "outputs": [],
   "source": [
    "recoveries = recoveries_df.loc[0, cols[1]:cols[-1]]\n"
   ]
  },
  {
   "cell_type": "code",
   "execution_count": 11,
   "metadata": {},
   "outputs": [],
   "source": [
    "dates = confirmed.keys()\n",
    "state_cases=[]\n",
    "total_deaths = [] \n",
    "mortality_rate = []\n",
    "recovery_rate = [] \n",
    "total_recovered = [] \n",
    "total_active = []"
   ]
  },
  {
   "cell_type": "code",
   "execution_count": 12,
   "metadata": {},
   "outputs": [
    {
     "name": "stderr",
     "output_type": "stream",
     "text": [
      "c:\\users\\ramesh babu\\appdata\\local\\programs\\python\\python37\\lib\\site-packages\\ipykernel_launcher.py:13: RuntimeWarning: invalid value encountered in longlong_scalars\n",
      "  del sys.path[0]\n",
      "c:\\users\\ramesh babu\\appdata\\local\\programs\\python\\python37\\lib\\site-packages\\ipykernel_launcher.py:14: RuntimeWarning: invalid value encountered in longlong_scalars\n",
      "  \n"
     ]
    }
   ],
   "source": [
    "for i in dates:\n",
    "    confirmed_sum = confirmed[i].sum()\n",
    "    death_sum = deaths[i].sum()\n",
    "    recovered_sum = recoveries[i].sum()\n",
    "    \n",
    "    # confirmed, deaths, recovered, and active\n",
    "    state_cases.append(confirmed_sum)\n",
    "    total_deaths.append(death_sum)\n",
    "    total_recovered.append(recovered_sum)\n",
    "    total_active.append(confirmed_sum-death_sum-recovered_sum)\n",
    "    \n",
    "    # calculate rates\n",
    "    mortality_rate.append(death_sum/confirmed_sum)\n",
    "    recovery_rate.append(recovered_sum/confirmed_sum)\n"
   ]
  },
  {
   "cell_type": "code",
   "execution_count": 13,
   "metadata": {},
   "outputs": [
    {
     "name": "stdout",
     "output_type": "stream",
     "text": [
      "2925\n",
      "49\n",
      "997\n",
      "[nan, 0.0, 0.125, 0.09090909090909091, 0.06666666666666667, 0.05, 0.06060606060606061, 0.06818181818181818, 0.07692307692307693, 0.07692307692307693, 0.0898876404494382, 0.08571428571428572, 0.08396946564885496, 0.0784313725490196, 0.07344632768361582, 0.07731958762886598, 0.09004739336492891, 0.08860759493670886, 0.10687022900763359, 0.12333333333333334, 0.14939024390243902, 0.1742857142857143, 0.2005420054200542, 0.2210796915167095, 0.2462686567164179, 0.27906976744186046, 0.3393665158371041, 0.3326488706365503, 0.37, 0.3706422018348624, 0.40530973451327434, 0.42614601018675724, 0.4509151414309484, 0.4771986970684039, 0.4930875576036866, 0.4918276374442793, 0.5108225108225108, 0.5191489361702127, 0.49604221635883905, 0.48614609571788414, 0.49764150943396224, 0.494199535962877, 0.4681081081081081, 0.470281543274244, 0.46605876393110435, 0.45454545454545453, 0.4542124542124542, 0.44376634699215345, 0.42536115569823435, 0.38924731182795697, 0.3803009575923393, 0.3557632398753894, 0.342512908777969, 0.3103624298111281, 0.3130684538056486, 0.3230980751604033, 0.32763907139728426, 0.3229942100909843, 0.329253849190683, 0.3214670981661273, 0.3408547008547009]\n",
      "[0, 4, 7, 10, 14, 19, 30, 40, 46, 58, 78, 92, 116, 136, 159, 173, 185, 209, 226, 255, 271, 280, 286, 292, 291, 298, 278, 308, 297, 324, 315, 315, 305, 296, 303, 313, 310, 309, 352, 378, 395, 405, 461, 475, 492, 540, 560, 601, 679, 812, 865, 993, 1105, 1309, 1393, 1433, 1491, 1590, 1650, 1838, 1879]\n"
     ]
    }
   ],
   "source": [
    "print(confirmed_sum)\n",
    "print(death_sum)\n",
    "print(recovered_sum)\n",
    "#print( mortality_rate)\n",
    "print(recovery_rate)\n",
    "print(total_active)"
   ]
  },
  {
   "cell_type": "code",
   "execution_count": 14,
   "metadata": {},
   "outputs": [],
   "source": [
    "def daily_increase(data):\n",
    "    d = [] \n",
    "    for i in range(len(data)):\n",
    "        if i == 0:\n",
    "            #d.append(data[0])\n",
    "            i=i+0\n",
    "        else:\n",
    "            d.append(data[i]-data[i-1])\n",
    "    return d \n",
    "\n",
    "# confirmed cases\n",
    "state_daily_increase = daily_increase(state_cases)\n",
    "\n",
    "\n",
    "# deaths\n",
    "state_daily_death = daily_increase(total_deaths)\n",
    "\n",
    "\n",
    "# recoveries\n",
    "state_daily_recovery = daily_increase(total_recovered)\n"
   ]
  },
  {
   "cell_type": "code",
   "execution_count": 15,
   "metadata": {},
   "outputs": [
    {
     "name": "stdout",
     "output_type": "stream",
     "text": [
      "[4, 4, 3, 4, 5, 13, 11, 8, 13, 24, 16, 26, 22, 24, 17, 17, 26, 25, 38, 28, 22, 19, 20, 13, 28, 12, 45, 13, 45, 20, 24, 12, 13, 37, 22, 20, 12, 53, 36, 54, 14, 63, 34, 28, 69, 36, 55, 99, 149, 67, 143, 138, 216, 130, 93, 101, 135, 115, 248, 144]\n",
      "[0, 0, 0, 0, 0, 1, 0, 1, 0, 1, 1, 0, 1, 0, 1, 1, 0, 1, 0, 0, 1, 0, 2, 1, 0, 2, 3, 1, 1, 2, 2, 2, 0, 2, 2, 0, 1, 0, 0, 1, 0, 0, 2, 2, 1, 0, 1, 0, 3, 1, 0, 0, 1, 0, 2, 0, 3, 2, 0, 0]\n",
      "[0, 1, 0, 0, 0, 1, 1, 1, 1, 3, 1, 2, 1, 1, 2, 4, 2, 7, 9, 12, 12, 13, 12, 13, 21, 30, 12, 23, 17, 27, 22, 20, 22, 28, 10, 23, 12, 10, 10, 36, 4, 7, 18, 9, 20, 16, 13, 21, 13, 13, 15, 26, 11, 46, 51, 43, 33, 53, 60, 103]\n"
     ]
    }
   ],
   "source": [
    "print(state_daily_increase)\n",
    "print(state_daily_death)\n",
    "print(state_daily_recovery)"
   ]
  },
  {
   "cell_type": "code",
   "execution_count": 20,
   "metadata": {},
   "outputs": [],
   "source": [
    "days_since_04_01 = np.array([i for i in range(len(dates))]).reshape(-1, 1)\n",
    "state_cases = np.array(state_cases).reshape(-1, 1)#-1 in reshape function is used when you dont know or want to explicitly tell the dimension of that axis\n",
    "total_deaths = np.array(total_deaths).reshape(-1, 1)#converts to a 1X1 matrix \n",
    "total_recovered = np.array(total_recovered).reshape(-1, 1)"
   ]
  },
  {
   "cell_type": "code",
   "execution_count": 21,
   "metadata": {},
   "outputs": [],
   "source": [
    "days_in_future = 10\n",
    "future_forcast = np.array([i for i in range(len(dates)+days_in_future)]).reshape(-1, 1)\n",
    "adjusted_dates = future_forcast[:-10]"
   ]
  },
  {
   "cell_type": "code",
   "execution_count": 22,
   "metadata": {},
   "outputs": [],
   "source": [
    "start = '04/01/2020'\n",
    "start_date = datetime.datetime.strptime(start, '%m/%d/%Y')\n",
    "future_forcast_dates = []\n",
    "for i in range(len(future_forcast)):\n",
    "    future_forcast_dates.append((start_date + datetime.timedelta(days=i)).strftime('%m/%d/%Y'))"
   ]
  },
  {
   "cell_type": "code",
   "execution_count": 23,
   "metadata": {},
   "outputs": [],
   "source": [
    "X_train_confirmed, X_test_confirmed, y_train_confirmed, y_test_confirmed = train_test_split(days_since_04_01, state_cases, test_size=0.40, shuffle=False)"
   ]
  },
  {
   "cell_type": "code",
   "execution_count": 35,
   "metadata": {},
   "outputs": [
    {
     "name": "stdout",
     "output_type": "stream",
     "text": [
      "MAE: 70.25195539378535\n",
      "MSE: 10893.675851003078\n"
     ]
    },
    {
     "data": {
      "text/plain": [
       "0.9771204069847605"
      ]
     },
     "execution_count": 35,
     "metadata": {},
     "output_type": "execute_result"
    }
   ],
   "source": [
    "# transform our data for polynomial regression\n",
    "poly = PolynomialFeatures(degree=5)\n",
    "poly_X_train_confirmed = poly.fit_transform(X_train_confirmed)\n",
    "poly_X_test_confirmed = poly.fit_transform(X_test_confirmed)\n",
    "poly_future_forcast = poly.fit_transform(future_forcast)\n",
    "\n",
    "# polynomial regression\n",
    "linear_model =LinearRegression(normalize=True, fit_intercept=False)\n",
    "linear_model.fit(poly_X_train_confirmed, y_train_confirmed)\n",
    "test_linear_pred = linear_model.predict(poly_X_test_confirmed)\n",
    "linear_pred = linear_model.predict(poly_future_forcast)\n",
    "print('MAE:', mean_absolute_error(test_linear_pred, y_test_confirmed))\n",
    "print('MSE:',mean_squared_error(test_linear_pred, y_test_confirmed))\n",
    "linear_model.score(poly_X_test_confirmed,y_test_confirmed)"
   ]
  },
  {
   "cell_type": "markdown",
   "metadata": {},
   "source": [
    "from sklearn.ensemble import RandomForestClassifier\n",
    "svm_confirmed=RandomForestClassifier()\n",
    "svm_confirmed.fit(X_train_confirmed,y_train_confirmed)\n",
    "svm_pred = svm_confirmed.predict(future_forcast)\n",
    "svm_test_pred = svm_confirmed.predict(X_test_confirmed)\n",
    "svm_confirmed.score(X_test_confirmed,y_test_confirmed)"
   ]
  },
  {
   "cell_type": "code",
   "execution_count": 100,
   "metadata": {},
   "outputs": [
    {
     "name": "stdout",
     "output_type": "stream",
     "text": [
      "MAE: 181.68441998739402\n",
      "MSE: 41899.28899820584\n"
     ]
    },
    {
     "name": "stderr",
     "output_type": "stream",
     "text": [
      "c:\\users\\ramesh babu\\appdata\\local\\programs\\python\\python37\\lib\\site-packages\\sklearn\\utils\\validation.py:760: DataConversionWarning: A column-vector y was passed when a 1d array was expected. Please change the shape of y to (n_samples, ), for example using ravel().\n",
      "  y = column_or_1d(y, warn=True)\n"
     ]
    },
    {
     "data": {
      "text/plain": [
       "0.9120004401619329"
      ]
     },
     "execution_count": 100,
     "metadata": {},
     "output_type": "execute_result"
    }
   ],
   "source": [
    "# svm_confirmed = svm_search.best_estimator_\n",
    "svm_confirmed = SVR(shrinking=True, kernel='poly',gamma=0.01, epsilon=1,degree=3, C=0.09)\n",
    "svm_confirmed.fit(X_train_confirmed, y_train_confirmed)\n",
    "svm_pred = svm_confirmed.predict(future_forcast)\n",
    "\n",
    "# check against testing data\n",
    "svm_test_pred = svm_confirmed.predict(X_test_confirmed)\n",
    "print('MAE:', mean_absolute_error(svm_test_pred, y_test_confirmed))\n",
    "print('MSE:',mean_squared_error(svm_test_pred, y_test_confirmed))\n",
    "svm_confirmed.score(X_test_confirmed,y_test_confirmed)"
   ]
  },
  {
   "cell_type": "code",
   "execution_count": 97,
   "metadata": {},
   "outputs": [],
   "source": [
    "def plot_predictions(x, y, pred, algo_name, color):\n",
    "    plt.figure(figsize=(16, 9))\n",
    "    plt.plot(x, y)\n",
    "    plt.plot(future_forcast, pred, linestyle='dashed', color=color)\n",
    "    plt.title('# of Coronavirus Cases Over Time', size=30)\n",
    "    plt.xlabel('Days Since 04/01/2020', size=30)\n",
    "    plt.ylabel('# of Cases', size=30)\n",
    "    plt.legend(['Confirmed Cases', algo_name], prop={'size': 20})\n",
    "    plt.xticks(size=20)\n",
    "    plt.yticks(size=20)\n",
    "    plt.show()\n"
   ]
  },
  {
   "cell_type": "code",
   "execution_count": 101,
   "metadata": {},
   "outputs": [
    {
     "data": {
      "image/png": "[encoded data removed]",
      "text/plain": [
       "<Figure size 1152x648 with 1 Axes>"
      ]
     },
     "metadata": {
      "needs_background": "light"
     },
     "output_type": "display_data"
    }
   ],
   "source": [
    "plot_predictions(adjusted_dates, state_cases, svm_pred, 'SVM Predictions', 'black')"
   ]
  },
  {
   "cell_type": "code",
   "execution_count": 87,
   "metadata": {},
   "outputs": [
    {
     "data": {
      "image/png": "[encoded data removed]",
      "text/plain": [
       "<Figure size 1152x648 with 1 Axes>"
      ]
     },
     "metadata": {
      "needs_background": "light"
     },
     "output_type": "display_data"
    }
   ],
   "source": [
    "plot_predictions(adjusted_dates, state_cases, linear_pred, 'Polynomial Regression Predictions', 'black')"
   ]
  },
  {
   "cell_type": "code",
   "execution_count": 92,
   "metadata": {},
   "outputs": [
    {
     "data": {
      "text/html": [
       "<div>\n",
       "<style scoped>\n",
       "    .dataframe tbody tr th:only-of-type {\n",
       "        vertical-align: middle;\n",
       "    }\n",
       "\n",
       "    .dataframe tbody tr th {\n",
       "        vertical-align: top;\n",
       "    }\n",
       "\n",
       "    .dataframe thead th {\n",
       "        text-align: right;\n",
       "    }\n",
       "</style>\n",
       "<table border=\"1\" class=\"dataframe\">\n",
       "  <thead>\n",
       "    <tr style=\"text-align: right;\">\n",
       "      <th></th>\n",
       "      <th>Date</th>\n",
       "      <th>SVM Predicted # of Confirmed Cases in Karnataka State</th>\n",
       "    </tr>\n",
       "  </thead>\n",
       "  <tbody>\n",
       "    <tr>\n",
       "      <th>0</th>\n",
       "      <td>06/01/2020</td>\n",
       "      <td>3982.0</td>\n",
       "    </tr>\n",
       "    <tr>\n",
       "      <th>1</th>\n",
       "      <td>06/02/2020</td>\n",
       "      <td>4176.0</td>\n",
       "    </tr>\n",
       "    <tr>\n",
       "      <th>2</th>\n",
       "      <td>06/03/2020</td>\n",
       "      <td>4377.0</td>\n",
       "    </tr>\n",
       "    <tr>\n",
       "      <th>3</th>\n",
       "      <td>06/04/2020</td>\n",
       "      <td>4584.0</td>\n",
       "    </tr>\n",
       "    <tr>\n",
       "      <th>4</th>\n",
       "      <td>06/05/2020</td>\n",
       "      <td>4797.0</td>\n",
       "    </tr>\n",
       "    <tr>\n",
       "      <th>5</th>\n",
       "      <td>06/06/2020</td>\n",
       "      <td>5017.0</td>\n",
       "    </tr>\n",
       "    <tr>\n",
       "      <th>6</th>\n",
       "      <td>06/07/2020</td>\n",
       "      <td>5244.0</td>\n",
       "    </tr>\n",
       "    <tr>\n",
       "      <th>7</th>\n",
       "      <td>06/08/2020</td>\n",
       "      <td>5477.0</td>\n",
       "    </tr>\n",
       "    <tr>\n",
       "      <th>8</th>\n",
       "      <td>06/09/2020</td>\n",
       "      <td>5718.0</td>\n",
       "    </tr>\n",
       "    <tr>\n",
       "      <th>9</th>\n",
       "      <td>06/10/2020</td>\n",
       "      <td>5966.0</td>\n",
       "    </tr>\n",
       "  </tbody>\n",
       "</table>\n",
       "</div>"
      ],
      "text/plain": [
       "         Date  SVM Predicted # of Confirmed Cases in Karnataka State\n",
       "0  06/01/2020                                             3982.0    \n",
       "1  06/02/2020                                             4176.0    \n",
       "2  06/03/2020                                             4377.0    \n",
       "3  06/04/2020                                             4584.0    \n",
       "4  06/05/2020                                             4797.0    \n",
       "5  06/06/2020                                             5017.0    \n",
       "6  06/07/2020                                             5244.0    \n",
       "7  06/08/2020                                             5477.0    \n",
       "8  06/09/2020                                             5718.0    \n",
       "9  06/10/2020                                             5966.0    "
      ]
     },
     "execution_count": 92,
     "metadata": {},
     "output_type": "execute_result"
    }
   ],
   "source": [
    "# Future predictions using SVM \n",
    "svm_df = pd.DataFrame({'Date': future_forcast_dates[-10:], 'SVM Predicted # of Confirmed Cases in Karnataka State': np.round(svm_pred[-10:])})\n",
    "svm_df"
   ]
  },
  {
   "cell_type": "code",
   "execution_count": 45,
   "metadata": {},
   "outputs": [
    {
     "data": {
      "text/html": [
       "<div>\n",
       "<style scoped>\n",
       "    .dataframe tbody tr th:only-of-type {\n",
       "        vertical-align: middle;\n",
       "    }\n",
       "\n",
       "    .dataframe tbody tr th {\n",
       "        vertical-align: top;\n",
       "    }\n",
       "\n",
       "    .dataframe thead th {\n",
       "        text-align: right;\n",
       "    }\n",
       "</style>\n",
       "<table border=\"1\" class=\"dataframe\">\n",
       "  <thead>\n",
       "    <tr style=\"text-align: right;\">\n",
       "      <th></th>\n",
       "      <th>Date</th>\n",
       "      <th>Polynomial Predicted # of Confirmed Cases in Karnataka State</th>\n",
       "    </tr>\n",
       "  </thead>\n",
       "  <tbody>\n",
       "    <tr>\n",
       "      <th>0</th>\n",
       "      <td>06/01/2020</td>\n",
       "      <td>3204.0</td>\n",
       "    </tr>\n",
       "    <tr>\n",
       "      <th>1</th>\n",
       "      <td>06/02/2020</td>\n",
       "      <td>3482.0</td>\n",
       "    </tr>\n",
       "    <tr>\n",
       "      <th>2</th>\n",
       "      <td>06/03/2020</td>\n",
       "      <td>3785.0</td>\n",
       "    </tr>\n",
       "    <tr>\n",
       "      <th>3</th>\n",
       "      <td>06/04/2020</td>\n",
       "      <td>4116.0</td>\n",
       "    </tr>\n",
       "    <tr>\n",
       "      <th>4</th>\n",
       "      <td>06/05/2020</td>\n",
       "      <td>4475.0</td>\n",
       "    </tr>\n",
       "    <tr>\n",
       "      <th>5</th>\n",
       "      <td>06/06/2020</td>\n",
       "      <td>4864.0</td>\n",
       "    </tr>\n",
       "    <tr>\n",
       "      <th>6</th>\n",
       "      <td>06/07/2020</td>\n",
       "      <td>5287.0</td>\n",
       "    </tr>\n",
       "    <tr>\n",
       "      <th>7</th>\n",
       "      <td>06/08/2020</td>\n",
       "      <td>5744.0</td>\n",
       "    </tr>\n",
       "    <tr>\n",
       "      <th>8</th>\n",
       "      <td>06/09/2020</td>\n",
       "      <td>6238.0</td>\n",
       "    </tr>\n",
       "    <tr>\n",
       "      <th>9</th>\n",
       "      <td>06/10/2020</td>\n",
       "      <td>6771.0</td>\n",
       "    </tr>\n",
       "  </tbody>\n",
       "</table>\n",
       "</div>"
      ],
      "text/plain": [
       "         Date  Polynomial Predicted # of Confirmed Cases in Karnataka State\n",
       "0  06/01/2020                                             3204.0           \n",
       "1  06/02/2020                                             3482.0           \n",
       "2  06/03/2020                                             3785.0           \n",
       "3  06/04/2020                                             4116.0           \n",
       "4  06/05/2020                                             4475.0           \n",
       "5  06/06/2020                                             4864.0           \n",
       "6  06/07/2020                                             5287.0           \n",
       "7  06/08/2020                                             5744.0           \n",
       "8  06/09/2020                                             6238.0           \n",
       "9  06/10/2020                                             6771.0           "
      ]
     },
     "execution_count": 45,
     "metadata": {},
     "output_type": "execute_result"
    }
   ],
   "source": [
    "# Future predictions using polynomial regression\n",
    "linear_pred = linear_pred.reshape(1,-1)[0]\n",
    "svm_df = pd.DataFrame({'Date': future_forcast_dates[-10:], 'Polynomial Predicted # of Confirmed Cases in Karnataka State': np.round(linear_pred[-10:])})\n",
    "svm_df"
   ]
  },
  {
   "cell_type": "code",
   "execution_count": null,
   "metadata": {},
   "outputs": [],
   "source": []
  },
  {
   "cell_type": "code",
   "execution_count": null,
   "metadata": {},
   "outputs": [],
   "source": []
  }
 ],
 "metadata": {
  "kernelspec": {
   "display_name": "Python 3",
   "language": "python",
   "name": "python3"
  },
  "language_info": {
   "codemirror_mode": {
    "name": "ipython",
    "version": 3
   },
   "file_extension": ".py",
   "mimetype": "text/x-python",
   "name": "python",
   "nbconvert_exporter": "python",
   "pygments_lexer": "ipython3",
   "version": "3.7.1"
  }
 },
 "nbformat": 4,
 "nbformat_minor": 4
}
