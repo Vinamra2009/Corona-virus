{
 "cells": [
  {
   "cell_type": "markdown",
   "metadata": {},
   "source": [
    "# Importing all the necessary libraries"
   ]
  },
  {
   "cell_type": "code",
   "execution_count": 3,
   "metadata": {},
   "outputs": [],
   "source": [
    "import numpy as np \n",
    "import matplotlib.pyplot as plt \n",
    "import matplotlib.colors as mcolors\n",
    "import pandas as pd \n",
    "import random\n",
    "import math\n",
    "import time\n",
    "from sklearn.linear_model import LinearRegression, BayesianRidge\n",
    "from sklearn.model_selection import RandomizedSearchCV, train_test_split\n",
    "from sklearn.preprocessing import PolynomialFeatures\n",
    "from sklearn.tree import DecisionTreeRegressor\n",
    "from sklearn.svm import SVR\n",
    "from sklearn.svm import SVC\n",
    "from sklearn.metrics import mean_squared_error, mean_absolute_error\n",
    "import datetime\n",
    "import operator \n",
    "plt.style.use('fivethirtyeight')#\n",
    "%matplotlib inline\n",
    "#To place the content properly in the notebook"
   ]
  },
  {
   "cell_type": "markdown",
   "metadata": {},
   "source": [
    "# CSV files for World Dataset"
   ]
  },
  {
   "cell_type": "code",
   "execution_count": 237,
   "metadata": {},
   "outputs": [],
   "source": [
    "confirmed_df = pd.read_csv('confirm_1.csv')\n",
    "deaths_df = pd.read_csv('confirm_2.csv')\n",
    "recoveries_df = pd.read_csv('confirm_3.csv')"
   ]
  },
  {
   "cell_type": "markdown",
   "metadata": {},
   "source": [
    "# CSV files for Karnataka Dataset"
   ]
  },
  {
   "cell_type": "code",
   "execution_count": 238,
   "metadata": {},
   "outputs": [],
   "source": [
    "confirmed_df_kar = pd.read_csv('total_casesAPRIL.csv')\n",
    "deaths_df_kar = pd.read_csv('death_cases_APRIL.csv')\n",
    "recoveries_df_kar = pd.read_csv('recovered_cases_APRIL.csv')"
   ]
  },
  {
   "cell_type": "markdown",
   "metadata": {},
   "source": [
    "# Details of the CSV files consisting World Data on Covid-19"
   ]
  },
  {
   "cell_type": "code",
   "execution_count": 239,
   "metadata": {},
   "outputs": [
    {
     "data": {
      "text/html": [
       "<div>\n",
       "<style scoped>\n",
       "    .dataframe tbody tr th:only-of-type {\n",
       "        vertical-align: middle;\n",
       "    }\n",
       "\n",
       "    .dataframe tbody tr th {\n",
       "        vertical-align: top;\n",
       "    }\n",
       "\n",
       "    .dataframe thead th {\n",
       "        text-align: right;\n",
       "    }\n",
       "</style>\n",
       "<table border=\"1\" class=\"dataframe\">\n",
       "  <thead>\n",
       "    <tr style=\"text-align: right;\">\n",
       "      <th></th>\n",
       "      <th>Province/State</th>\n",
       "      <th>Country/Region</th>\n",
       "      <th>Lat</th>\n",
       "      <th>Long</th>\n",
       "      <th>1/22/20</th>\n",
       "      <th>1/23/20</th>\n",
       "      <th>1/24/20</th>\n",
       "      <th>1/25/20</th>\n",
       "      <th>1/26/20</th>\n",
       "      <th>1/27/20</th>\n",
       "      <th>...</th>\n",
       "      <th>5/20/20</th>\n",
       "      <th>5/21/20</th>\n",
       "      <th>5/22/20</th>\n",
       "      <th>5/23/20</th>\n",
       "      <th>5/24/20</th>\n",
       "      <th>5/25/20</th>\n",
       "      <th>5/26/20</th>\n",
       "      <th>5/27/20</th>\n",
       "      <th>5/28/20</th>\n",
       "      <th>5/29/20</th>\n",
       "    </tr>\n",
       "  </thead>\n",
       "  <tbody>\n",
       "    <tr>\n",
       "      <th>0</th>\n",
       "      <td>NaN</td>\n",
       "      <td>Afghanistan</td>\n",
       "      <td>33.0000</td>\n",
       "      <td>65.0000</td>\n",
       "      <td>0</td>\n",
       "      <td>0</td>\n",
       "      <td>0</td>\n",
       "      <td>0</td>\n",
       "      <td>0</td>\n",
       "      <td>0</td>\n",
       "      <td>...</td>\n",
       "      <td>8145</td>\n",
       "      <td>8676</td>\n",
       "      <td>9216</td>\n",
       "      <td>9998</td>\n",
       "      <td>10582</td>\n",
       "      <td>11173</td>\n",
       "      <td>11831</td>\n",
       "      <td>12456</td>\n",
       "      <td>13036</td>\n",
       "      <td>13659</td>\n",
       "    </tr>\n",
       "    <tr>\n",
       "      <th>1</th>\n",
       "      <td>NaN</td>\n",
       "      <td>Albania</td>\n",
       "      <td>41.1533</td>\n",
       "      <td>20.1683</td>\n",
       "      <td>0</td>\n",
       "      <td>0</td>\n",
       "      <td>0</td>\n",
       "      <td>0</td>\n",
       "      <td>0</td>\n",
       "      <td>0</td>\n",
       "      <td>...</td>\n",
       "      <td>964</td>\n",
       "      <td>969</td>\n",
       "      <td>981</td>\n",
       "      <td>989</td>\n",
       "      <td>998</td>\n",
       "      <td>1004</td>\n",
       "      <td>1029</td>\n",
       "      <td>1050</td>\n",
       "      <td>1076</td>\n",
       "      <td>1099</td>\n",
       "    </tr>\n",
       "    <tr>\n",
       "      <th>2</th>\n",
       "      <td>NaN</td>\n",
       "      <td>Algeria</td>\n",
       "      <td>28.0339</td>\n",
       "      <td>1.6596</td>\n",
       "      <td>0</td>\n",
       "      <td>0</td>\n",
       "      <td>0</td>\n",
       "      <td>0</td>\n",
       "      <td>0</td>\n",
       "      <td>0</td>\n",
       "      <td>...</td>\n",
       "      <td>7542</td>\n",
       "      <td>7728</td>\n",
       "      <td>7918</td>\n",
       "      <td>8113</td>\n",
       "      <td>8306</td>\n",
       "      <td>8503</td>\n",
       "      <td>8697</td>\n",
       "      <td>8857</td>\n",
       "      <td>8997</td>\n",
       "      <td>9134</td>\n",
       "    </tr>\n",
       "    <tr>\n",
       "      <th>3</th>\n",
       "      <td>NaN</td>\n",
       "      <td>Andorra</td>\n",
       "      <td>42.5063</td>\n",
       "      <td>1.5218</td>\n",
       "      <td>0</td>\n",
       "      <td>0</td>\n",
       "      <td>0</td>\n",
       "      <td>0</td>\n",
       "      <td>0</td>\n",
       "      <td>0</td>\n",
       "      <td>...</td>\n",
       "      <td>762</td>\n",
       "      <td>762</td>\n",
       "      <td>762</td>\n",
       "      <td>762</td>\n",
       "      <td>762</td>\n",
       "      <td>763</td>\n",
       "      <td>763</td>\n",
       "      <td>763</td>\n",
       "      <td>763</td>\n",
       "      <td>764</td>\n",
       "    </tr>\n",
       "    <tr>\n",
       "      <th>4</th>\n",
       "      <td>NaN</td>\n",
       "      <td>Angola</td>\n",
       "      <td>-11.2027</td>\n",
       "      <td>17.8739</td>\n",
       "      <td>0</td>\n",
       "      <td>0</td>\n",
       "      <td>0</td>\n",
       "      <td>0</td>\n",
       "      <td>0</td>\n",
       "      <td>0</td>\n",
       "      <td>...</td>\n",
       "      <td>52</td>\n",
       "      <td>58</td>\n",
       "      <td>60</td>\n",
       "      <td>61</td>\n",
       "      <td>69</td>\n",
       "      <td>70</td>\n",
       "      <td>70</td>\n",
       "      <td>71</td>\n",
       "      <td>74</td>\n",
       "      <td>81</td>\n",
       "    </tr>\n",
       "  </tbody>\n",
       "</table>\n",
       "<p>5 rows × 133 columns</p>\n",
       "</div>"
      ],
      "text/plain": [
       "  Province/State Country/Region      Lat     Long  1/22/20  1/23/20  1/24/20  \\\n",
       "0            NaN    Afghanistan  33.0000  65.0000        0        0        0   \n",
       "1            NaN        Albania  41.1533  20.1683        0        0        0   \n",
       "2            NaN        Algeria  28.0339   1.6596        0        0        0   \n",
       "3            NaN        Andorra  42.5063   1.5218        0        0        0   \n",
       "4            NaN         Angola -11.2027  17.8739        0        0        0   \n",
       "\n",
       "   1/25/20  1/26/20  1/27/20  ...  5/20/20  5/21/20  5/22/20  5/23/20  \\\n",
       "0        0        0        0  ...     8145     8676     9216     9998   \n",
       "1        0        0        0  ...      964      969      981      989   \n",
       "2        0        0        0  ...     7542     7728     7918     8113   \n",
       "3        0        0        0  ...      762      762      762      762   \n",
       "4        0        0        0  ...       52       58       60       61   \n",
       "\n",
       "   5/24/20  5/25/20  5/26/20  5/27/20  5/28/20  5/29/20  \n",
       "0    10582    11173    11831    12456    13036    13659  \n",
       "1      998     1004     1029     1050     1076     1099  \n",
       "2     8306     8503     8697     8857     8997     9134  \n",
       "3      762      763      763      763      763      764  \n",
       "4       69       70       70       71       74       81  \n",
       "\n",
       "[5 rows x 133 columns]"
      ]
     },
     "execution_count": 239,
     "metadata": {},
     "output_type": "execute_result"
    }
   ],
   "source": [
    "confirmed_df.head()"
   ]
  },
  {
   "cell_type": "code",
   "execution_count": 240,
   "metadata": {},
   "outputs": [
    {
     "data": {
      "text/html": [
       "<div>\n",
       "<style scoped>\n",
       "    .dataframe tbody tr th:only-of-type {\n",
       "        vertical-align: middle;\n",
       "    }\n",
       "\n",
       "    .dataframe tbody tr th {\n",
       "        vertical-align: top;\n",
       "    }\n",
       "\n",
       "    .dataframe thead th {\n",
       "        text-align: right;\n",
       "    }\n",
       "</style>\n",
       "<table border=\"1\" class=\"dataframe\">\n",
       "  <thead>\n",
       "    <tr style=\"text-align: right;\">\n",
       "      <th></th>\n",
       "      <th>Province/State</th>\n",
       "      <th>Country/Region</th>\n",
       "      <th>Lat</th>\n",
       "      <th>Long</th>\n",
       "      <th>1/22/20</th>\n",
       "      <th>1/23/20</th>\n",
       "      <th>1/24/20</th>\n",
       "      <th>1/25/20</th>\n",
       "      <th>1/26/20</th>\n",
       "      <th>1/27/20</th>\n",
       "      <th>...</th>\n",
       "      <th>5/20/20</th>\n",
       "      <th>5/21/20</th>\n",
       "      <th>5/22/20</th>\n",
       "      <th>5/23/20</th>\n",
       "      <th>5/24/20</th>\n",
       "      <th>5/25/20</th>\n",
       "      <th>5/26/20</th>\n",
       "      <th>5/27/20</th>\n",
       "      <th>5/28/20</th>\n",
       "      <th>5/29/20</th>\n",
       "    </tr>\n",
       "  </thead>\n",
       "  <tbody>\n",
       "    <tr>\n",
       "      <th>0</th>\n",
       "      <td>NaN</td>\n",
       "      <td>Afghanistan</td>\n",
       "      <td>33.0000</td>\n",
       "      <td>65.0000</td>\n",
       "      <td>0</td>\n",
       "      <td>0</td>\n",
       "      <td>0</td>\n",
       "      <td>0</td>\n",
       "      <td>0</td>\n",
       "      <td>0</td>\n",
       "      <td>...</td>\n",
       "      <td>187</td>\n",
       "      <td>193</td>\n",
       "      <td>205</td>\n",
       "      <td>216</td>\n",
       "      <td>218</td>\n",
       "      <td>219</td>\n",
       "      <td>220</td>\n",
       "      <td>227</td>\n",
       "      <td>235</td>\n",
       "      <td>246</td>\n",
       "    </tr>\n",
       "    <tr>\n",
       "      <th>1</th>\n",
       "      <td>NaN</td>\n",
       "      <td>Albania</td>\n",
       "      <td>41.1533</td>\n",
       "      <td>20.1683</td>\n",
       "      <td>0</td>\n",
       "      <td>0</td>\n",
       "      <td>0</td>\n",
       "      <td>0</td>\n",
       "      <td>0</td>\n",
       "      <td>0</td>\n",
       "      <td>...</td>\n",
       "      <td>31</td>\n",
       "      <td>31</td>\n",
       "      <td>31</td>\n",
       "      <td>31</td>\n",
       "      <td>32</td>\n",
       "      <td>32</td>\n",
       "      <td>33</td>\n",
       "      <td>33</td>\n",
       "      <td>33</td>\n",
       "      <td>33</td>\n",
       "    </tr>\n",
       "    <tr>\n",
       "      <th>2</th>\n",
       "      <td>NaN</td>\n",
       "      <td>Algeria</td>\n",
       "      <td>28.0339</td>\n",
       "      <td>1.6596</td>\n",
       "      <td>0</td>\n",
       "      <td>0</td>\n",
       "      <td>0</td>\n",
       "      <td>0</td>\n",
       "      <td>0</td>\n",
       "      <td>0</td>\n",
       "      <td>...</td>\n",
       "      <td>568</td>\n",
       "      <td>575</td>\n",
       "      <td>582</td>\n",
       "      <td>592</td>\n",
       "      <td>600</td>\n",
       "      <td>609</td>\n",
       "      <td>617</td>\n",
       "      <td>623</td>\n",
       "      <td>630</td>\n",
       "      <td>638</td>\n",
       "    </tr>\n",
       "    <tr>\n",
       "      <th>3</th>\n",
       "      <td>NaN</td>\n",
       "      <td>Andorra</td>\n",
       "      <td>42.5063</td>\n",
       "      <td>1.5218</td>\n",
       "      <td>0</td>\n",
       "      <td>0</td>\n",
       "      <td>0</td>\n",
       "      <td>0</td>\n",
       "      <td>0</td>\n",
       "      <td>0</td>\n",
       "      <td>...</td>\n",
       "      <td>51</td>\n",
       "      <td>51</td>\n",
       "      <td>51</td>\n",
       "      <td>51</td>\n",
       "      <td>51</td>\n",
       "      <td>51</td>\n",
       "      <td>51</td>\n",
       "      <td>51</td>\n",
       "      <td>51</td>\n",
       "      <td>51</td>\n",
       "    </tr>\n",
       "    <tr>\n",
       "      <th>4</th>\n",
       "      <td>NaN</td>\n",
       "      <td>Angola</td>\n",
       "      <td>-11.2027</td>\n",
       "      <td>17.8739</td>\n",
       "      <td>0</td>\n",
       "      <td>0</td>\n",
       "      <td>0</td>\n",
       "      <td>0</td>\n",
       "      <td>0</td>\n",
       "      <td>0</td>\n",
       "      <td>...</td>\n",
       "      <td>3</td>\n",
       "      <td>3</td>\n",
       "      <td>3</td>\n",
       "      <td>4</td>\n",
       "      <td>4</td>\n",
       "      <td>4</td>\n",
       "      <td>4</td>\n",
       "      <td>4</td>\n",
       "      <td>4</td>\n",
       "      <td>4</td>\n",
       "    </tr>\n",
       "  </tbody>\n",
       "</table>\n",
       "<p>5 rows × 133 columns</p>\n",
       "</div>"
      ],
      "text/plain": [
       "  Province/State Country/Region      Lat     Long  1/22/20  1/23/20  1/24/20  \\\n",
       "0            NaN    Afghanistan  33.0000  65.0000        0        0        0   \n",
       "1            NaN        Albania  41.1533  20.1683        0        0        0   \n",
       "2            NaN        Algeria  28.0339   1.6596        0        0        0   \n",
       "3            NaN        Andorra  42.5063   1.5218        0        0        0   \n",
       "4            NaN         Angola -11.2027  17.8739        0        0        0   \n",
       "\n",
       "   1/25/20  1/26/20  1/27/20  ...  5/20/20  5/21/20  5/22/20  5/23/20  \\\n",
       "0        0        0        0  ...      187      193      205      216   \n",
       "1        0        0        0  ...       31       31       31       31   \n",
       "2        0        0        0  ...      568      575      582      592   \n",
       "3        0        0        0  ...       51       51       51       51   \n",
       "4        0        0        0  ...        3        3        3        4   \n",
       "\n",
       "   5/24/20  5/25/20  5/26/20  5/27/20  5/28/20  5/29/20  \n",
       "0      218      219      220      227      235      246  \n",
       "1       32       32       33       33       33       33  \n",
       "2      600      609      617      623      630      638  \n",
       "3       51       51       51       51       51       51  \n",
       "4        4        4        4        4        4        4  \n",
       "\n",
       "[5 rows x 133 columns]"
      ]
     },
     "execution_count": 240,
     "metadata": {},
     "output_type": "execute_result"
    }
   ],
   "source": [
    "deaths_df.head()"
   ]
  },
  {
   "cell_type": "code",
   "execution_count": 241,
   "metadata": {},
   "outputs": [
    {
     "data": {
      "text/html": [
       "<div>\n",
       "<style scoped>\n",
       "    .dataframe tbody tr th:only-of-type {\n",
       "        vertical-align: middle;\n",
       "    }\n",
       "\n",
       "    .dataframe tbody tr th {\n",
       "        vertical-align: top;\n",
       "    }\n",
       "\n",
       "    .dataframe thead th {\n",
       "        text-align: right;\n",
       "    }\n",
       "</style>\n",
       "<table border=\"1\" class=\"dataframe\">\n",
       "  <thead>\n",
       "    <tr style=\"text-align: right;\">\n",
       "      <th></th>\n",
       "      <th>Province/State</th>\n",
       "      <th>Country/Region</th>\n",
       "      <th>Lat</th>\n",
       "      <th>Long</th>\n",
       "      <th>1/22/20</th>\n",
       "      <th>1/23/20</th>\n",
       "      <th>1/24/20</th>\n",
       "      <th>1/25/20</th>\n",
       "      <th>1/26/20</th>\n",
       "      <th>1/27/20</th>\n",
       "      <th>...</th>\n",
       "      <th>5/20/20</th>\n",
       "      <th>5/21/20</th>\n",
       "      <th>5/22/20</th>\n",
       "      <th>5/23/20</th>\n",
       "      <th>5/24/20</th>\n",
       "      <th>5/25/20</th>\n",
       "      <th>5/26/20</th>\n",
       "      <th>5/27/20</th>\n",
       "      <th>5/28/20</th>\n",
       "      <th>5/29/20</th>\n",
       "    </tr>\n",
       "  </thead>\n",
       "  <tbody>\n",
       "    <tr>\n",
       "      <th>0</th>\n",
       "      <td>NaN</td>\n",
       "      <td>Afghanistan</td>\n",
       "      <td>33.0000</td>\n",
       "      <td>65.0000</td>\n",
       "      <td>0</td>\n",
       "      <td>0</td>\n",
       "      <td>0</td>\n",
       "      <td>0</td>\n",
       "      <td>0</td>\n",
       "      <td>0</td>\n",
       "      <td>...</td>\n",
       "      <td>930</td>\n",
       "      <td>938</td>\n",
       "      <td>996</td>\n",
       "      <td>1040</td>\n",
       "      <td>1075</td>\n",
       "      <td>1097</td>\n",
       "      <td>1128</td>\n",
       "      <td>1138</td>\n",
       "      <td>1209</td>\n",
       "      <td>1259</td>\n",
       "    </tr>\n",
       "    <tr>\n",
       "      <th>1</th>\n",
       "      <td>NaN</td>\n",
       "      <td>Albania</td>\n",
       "      <td>41.1533</td>\n",
       "      <td>20.1683</td>\n",
       "      <td>0</td>\n",
       "      <td>0</td>\n",
       "      <td>0</td>\n",
       "      <td>0</td>\n",
       "      <td>0</td>\n",
       "      <td>0</td>\n",
       "      <td>...</td>\n",
       "      <td>758</td>\n",
       "      <td>771</td>\n",
       "      <td>777</td>\n",
       "      <td>783</td>\n",
       "      <td>789</td>\n",
       "      <td>795</td>\n",
       "      <td>803</td>\n",
       "      <td>812</td>\n",
       "      <td>823</td>\n",
       "      <td>851</td>\n",
       "    </tr>\n",
       "    <tr>\n",
       "      <th>2</th>\n",
       "      <td>NaN</td>\n",
       "      <td>Algeria</td>\n",
       "      <td>28.0339</td>\n",
       "      <td>1.6596</td>\n",
       "      <td>0</td>\n",
       "      <td>0</td>\n",
       "      <td>0</td>\n",
       "      <td>0</td>\n",
       "      <td>0</td>\n",
       "      <td>0</td>\n",
       "      <td>...</td>\n",
       "      <td>3968</td>\n",
       "      <td>4062</td>\n",
       "      <td>4256</td>\n",
       "      <td>4426</td>\n",
       "      <td>4784</td>\n",
       "      <td>4747</td>\n",
       "      <td>4918</td>\n",
       "      <td>5129</td>\n",
       "      <td>5277</td>\n",
       "      <td>5422</td>\n",
       "    </tr>\n",
       "    <tr>\n",
       "      <th>3</th>\n",
       "      <td>NaN</td>\n",
       "      <td>Andorra</td>\n",
       "      <td>42.5063</td>\n",
       "      <td>1.5218</td>\n",
       "      <td>0</td>\n",
       "      <td>0</td>\n",
       "      <td>0</td>\n",
       "      <td>0</td>\n",
       "      <td>0</td>\n",
       "      <td>0</td>\n",
       "      <td>...</td>\n",
       "      <td>639</td>\n",
       "      <td>639</td>\n",
       "      <td>652</td>\n",
       "      <td>653</td>\n",
       "      <td>653</td>\n",
       "      <td>663</td>\n",
       "      <td>676</td>\n",
       "      <td>676</td>\n",
       "      <td>681</td>\n",
       "      <td>684</td>\n",
       "    </tr>\n",
       "    <tr>\n",
       "      <th>4</th>\n",
       "      <td>NaN</td>\n",
       "      <td>Angola</td>\n",
       "      <td>-11.2027</td>\n",
       "      <td>17.8739</td>\n",
       "      <td>0</td>\n",
       "      <td>0</td>\n",
       "      <td>0</td>\n",
       "      <td>0</td>\n",
       "      <td>0</td>\n",
       "      <td>0</td>\n",
       "      <td>...</td>\n",
       "      <td>17</td>\n",
       "      <td>17</td>\n",
       "      <td>17</td>\n",
       "      <td>18</td>\n",
       "      <td>18</td>\n",
       "      <td>18</td>\n",
       "      <td>18</td>\n",
       "      <td>18</td>\n",
       "      <td>18</td>\n",
       "      <td>18</td>\n",
       "    </tr>\n",
       "  </tbody>\n",
       "</table>\n",
       "<p>5 rows × 133 columns</p>\n",
       "</div>"
      ],
      "text/plain": [
       "  Province/State Country/Region      Lat     Long  1/22/20  1/23/20  1/24/20  \\\n",
       "0            NaN    Afghanistan  33.0000  65.0000        0        0        0   \n",
       "1            NaN        Albania  41.1533  20.1683        0        0        0   \n",
       "2            NaN        Algeria  28.0339   1.6596        0        0        0   \n",
       "3            NaN        Andorra  42.5063   1.5218        0        0        0   \n",
       "4            NaN         Angola -11.2027  17.8739        0        0        0   \n",
       "\n",
       "   1/25/20  1/26/20  1/27/20  ...  5/20/20  5/21/20  5/22/20  5/23/20  \\\n",
       "0        0        0        0  ...      930      938      996     1040   \n",
       "1        0        0        0  ...      758      771      777      783   \n",
       "2        0        0        0  ...     3968     4062     4256     4426   \n",
       "3        0        0        0  ...      639      639      652      653   \n",
       "4        0        0        0  ...       17       17       17       18   \n",
       "\n",
       "   5/24/20  5/25/20  5/26/20  5/27/20  5/28/20  5/29/20  \n",
       "0     1075     1097     1128     1138     1209     1259  \n",
       "1      789      795      803      812      823      851  \n",
       "2     4784     4747     4918     5129     5277     5422  \n",
       "3      653      663      676      676      681      684  \n",
       "4       18       18       18       18       18       18  \n",
       "\n",
       "[5 rows x 133 columns]"
      ]
     },
     "execution_count": 241,
     "metadata": {},
     "output_type": "execute_result"
    }
   ],
   "source": [
    "recoveries_df.head()"
   ]
  },
  {
   "cell_type": "markdown",
   "metadata": {},
   "source": [
    "# Details of the CSV files consisting Karnataka data on Covid-19"
   ]
  },
  {
   "cell_type": "code",
   "execution_count": 242,
   "metadata": {},
   "outputs": [
    {
     "data": {
      "text/html": [
       "<div>\n",
       "<style scoped>\n",
       "    .dataframe tbody tr th:only-of-type {\n",
       "        vertical-align: middle;\n",
       "    }\n",
       "\n",
       "    .dataframe tbody tr th {\n",
       "        vertical-align: top;\n",
       "    }\n",
       "\n",
       "    .dataframe thead th {\n",
       "        text-align: right;\n",
       "    }\n",
       "</style>\n",
       "<table border=\"1\" class=\"dataframe\">\n",
       "  <thead>\n",
       "    <tr style=\"text-align: right;\">\n",
       "      <th></th>\n",
       "      <th>Unnamed: 0</th>\n",
       "      <th>04/01/2020</th>\n",
       "      <th>04/02/2020</th>\n",
       "      <th>04/03/2020</th>\n",
       "      <th>04/04/2020</th>\n",
       "      <th>04/05/2020</th>\n",
       "      <th>04/06/2020</th>\n",
       "      <th>04/07/2020</th>\n",
       "      <th>04/08/2020</th>\n",
       "      <th>04/09/2020</th>\n",
       "      <th>...</th>\n",
       "      <th>05/22/2020</th>\n",
       "      <th>05/23/2020</th>\n",
       "      <th>05/24/2020</th>\n",
       "      <th>05/25/2020</th>\n",
       "      <th>05/26/2020</th>\n",
       "      <th>05/27/2020</th>\n",
       "      <th>05/28/2020</th>\n",
       "      <th>05/29/2020</th>\n",
       "      <th>05/30/2020</th>\n",
       "      <th>05/31/2020</th>\n",
       "    </tr>\n",
       "  </thead>\n",
       "  <tbody>\n",
       "    <tr>\n",
       "      <th>0</th>\n",
       "      <td>KARNATAKA</td>\n",
       "      <td>0</td>\n",
       "      <td>4</td>\n",
       "      <td>8</td>\n",
       "      <td>11</td>\n",
       "      <td>15</td>\n",
       "      <td>20</td>\n",
       "      <td>33</td>\n",
       "      <td>44</td>\n",
       "      <td>52</td>\n",
       "      <td>...</td>\n",
       "      <td>1605</td>\n",
       "      <td>1743</td>\n",
       "      <td>1959</td>\n",
       "      <td>2089</td>\n",
       "      <td>2182</td>\n",
       "      <td>2283</td>\n",
       "      <td>2418</td>\n",
       "      <td>2533</td>\n",
       "      <td>2781</td>\n",
       "      <td>2925</td>\n",
       "    </tr>\n",
       "  </tbody>\n",
       "</table>\n",
       "<p>1 rows × 62 columns</p>\n",
       "</div>"
      ],
      "text/plain": [
       "  Unnamed: 0  04/01/2020  04/02/2020  04/03/2020  04/04/2020  04/05/2020  \\\n",
       "0  KARNATAKA           0           4           8          11          15   \n",
       "\n",
       "   04/06/2020  04/07/2020  04/08/2020  04/09/2020  ...  05/22/2020  \\\n",
       "0          20          33          44          52  ...        1605   \n",
       "\n",
       "   05/23/2020  05/24/2020  05/25/2020  05/26/2020  05/27/2020  05/28/2020  \\\n",
       "0        1743        1959        2089        2182        2283        2418   \n",
       "\n",
       "   05/29/2020  05/30/2020  05/31/2020  \n",
       "0        2533        2781        2925  \n",
       "\n",
       "[1 rows x 62 columns]"
      ]
     },
     "execution_count": 242,
     "metadata": {},
     "output_type": "execute_result"
    }
   ],
   "source": [
    "confirmed_df_kar.head()"
   ]
  },
  {
   "cell_type": "code",
   "execution_count": 243,
   "metadata": {},
   "outputs": [
    {
     "data": {
      "text/html": [
       "<div>\n",
       "<style scoped>\n",
       "    .dataframe tbody tr th:only-of-type {\n",
       "        vertical-align: middle;\n",
       "    }\n",
       "\n",
       "    .dataframe tbody tr th {\n",
       "        vertical-align: top;\n",
       "    }\n",
       "\n",
       "    .dataframe thead th {\n",
       "        text-align: right;\n",
       "    }\n",
       "</style>\n",
       "<table border=\"1\" class=\"dataframe\">\n",
       "  <thead>\n",
       "    <tr style=\"text-align: right;\">\n",
       "      <th></th>\n",
       "      <th>Unnamed: 0</th>\n",
       "      <th>04/01/2020</th>\n",
       "      <th>04/02/2020</th>\n",
       "      <th>04/03/2020</th>\n",
       "      <th>04/04/2020</th>\n",
       "      <th>04/05/2020</th>\n",
       "      <th>04/06/2020</th>\n",
       "      <th>04/07/2020</th>\n",
       "      <th>04/08/2020</th>\n",
       "      <th>04/09/2020</th>\n",
       "      <th>...</th>\n",
       "      <th>05/22/2020</th>\n",
       "      <th>05/23/2020</th>\n",
       "      <th>05/24/2020</th>\n",
       "      <th>05/25/2020</th>\n",
       "      <th>05/26/2020</th>\n",
       "      <th>05/27/2020</th>\n",
       "      <th>05/28/2020</th>\n",
       "      <th>05/29/2020</th>\n",
       "      <th>05/30/2020</th>\n",
       "      <th>05/31/2020</th>\n",
       "    </tr>\n",
       "  </thead>\n",
       "  <tbody>\n",
       "    <tr>\n",
       "      <th>0</th>\n",
       "      <td>KARNATAKA</td>\n",
       "      <td>0</td>\n",
       "      <td>0</td>\n",
       "      <td>0</td>\n",
       "      <td>0</td>\n",
       "      <td>0</td>\n",
       "      <td>0</td>\n",
       "      <td>1</td>\n",
       "      <td>1</td>\n",
       "      <td>2</td>\n",
       "      <td>...</td>\n",
       "      <td>41</td>\n",
       "      <td>41</td>\n",
       "      <td>42</td>\n",
       "      <td>42</td>\n",
       "      <td>44</td>\n",
       "      <td>44</td>\n",
       "      <td>47</td>\n",
       "      <td>49</td>\n",
       "      <td>49</td>\n",
       "      <td>49</td>\n",
       "    </tr>\n",
       "  </tbody>\n",
       "</table>\n",
       "<p>1 rows × 62 columns</p>\n",
       "</div>"
      ],
      "text/plain": [
       "  Unnamed: 0  04/01/2020  04/02/2020  04/03/2020  04/04/2020  04/05/2020  \\\n",
       "0  KARNATAKA           0           0           0           0           0   \n",
       "\n",
       "   04/06/2020  04/07/2020  04/08/2020  04/09/2020  ...  05/22/2020  \\\n",
       "0           0           1           1           2  ...          41   \n",
       "\n",
       "   05/23/2020  05/24/2020  05/25/2020  05/26/2020  05/27/2020  05/28/2020  \\\n",
       "0          41          42          42          44          44          47   \n",
       "\n",
       "   05/29/2020  05/30/2020  05/31/2020  \n",
       "0          49          49          49  \n",
       "\n",
       "[1 rows x 62 columns]"
      ]
     },
     "execution_count": 243,
     "metadata": {},
     "output_type": "execute_result"
    }
   ],
   "source": [
    "deaths_df_kar.head()"
   ]
  },
  {
   "cell_type": "code",
   "execution_count": 244,
   "metadata": {},
   "outputs": [
    {
     "data": {
      "text/html": [
       "<div>\n",
       "<style scoped>\n",
       "    .dataframe tbody tr th:only-of-type {\n",
       "        vertical-align: middle;\n",
       "    }\n",
       "\n",
       "    .dataframe tbody tr th {\n",
       "        vertical-align: top;\n",
       "    }\n",
       "\n",
       "    .dataframe thead th {\n",
       "        text-align: right;\n",
       "    }\n",
       "</style>\n",
       "<table border=\"1\" class=\"dataframe\">\n",
       "  <thead>\n",
       "    <tr style=\"text-align: right;\">\n",
       "      <th></th>\n",
       "      <th>Unnamed: 0</th>\n",
       "      <th>04/01/2020</th>\n",
       "      <th>04/02/2020</th>\n",
       "      <th>04/03/2020</th>\n",
       "      <th>04/04/2020</th>\n",
       "      <th>04/05/2020</th>\n",
       "      <th>04/06/2020</th>\n",
       "      <th>04/07/2020</th>\n",
       "      <th>04/08/2020</th>\n",
       "      <th>04/09/2020</th>\n",
       "      <th>...</th>\n",
       "      <th>05/22/2020</th>\n",
       "      <th>05/23/2020</th>\n",
       "      <th>05/24/2020</th>\n",
       "      <th>05/25/2020</th>\n",
       "      <th>05/26/2020</th>\n",
       "      <th>05/27/2020</th>\n",
       "      <th>05/28/2020</th>\n",
       "      <th>05/29/2020</th>\n",
       "      <th>05/30/2020</th>\n",
       "      <th>05/31/2020</th>\n",
       "    </tr>\n",
       "  </thead>\n",
       "  <tbody>\n",
       "    <tr>\n",
       "      <th>0</th>\n",
       "      <td>KARNATAKA</td>\n",
       "      <td>0</td>\n",
       "      <td>0</td>\n",
       "      <td>1</td>\n",
       "      <td>1</td>\n",
       "      <td>1</td>\n",
       "      <td>1</td>\n",
       "      <td>2</td>\n",
       "      <td>3</td>\n",
       "      <td>4</td>\n",
       "      <td>...</td>\n",
       "      <td>571</td>\n",
       "      <td>597</td>\n",
       "      <td>608</td>\n",
       "      <td>654</td>\n",
       "      <td>705</td>\n",
       "      <td>748</td>\n",
       "      <td>781</td>\n",
       "      <td>834</td>\n",
       "      <td>894</td>\n",
       "      <td>997</td>\n",
       "    </tr>\n",
       "  </tbody>\n",
       "</table>\n",
       "<p>1 rows × 62 columns</p>\n",
       "</div>"
      ],
      "text/plain": [
       "  Unnamed: 0  04/01/2020  04/02/2020  04/03/2020  04/04/2020  04/05/2020  \\\n",
       "0  KARNATAKA           0           0           1           1           1   \n",
       "\n",
       "   04/06/2020  04/07/2020  04/08/2020  04/09/2020  ...  05/22/2020  \\\n",
       "0           1           2           3           4  ...         571   \n",
       "\n",
       "   05/23/2020  05/24/2020  05/25/2020  05/26/2020  05/27/2020  05/28/2020  \\\n",
       "0         597         608         654         705         748         781   \n",
       "\n",
       "   05/29/2020  05/30/2020  05/31/2020  \n",
       "0         834         894         997  \n",
       "\n",
       "[1 rows x 62 columns]"
      ]
     },
     "execution_count": 244,
     "metadata": {},
     "output_type": "execute_result"
    }
   ],
   "source": [
    "recoveries_df_kar.head()"
   ]
  },
  {
   "cell_type": "markdown",
   "metadata": {},
   "source": [
    "# Reading column values from World Dataset"
   ]
  },
  {
   "cell_type": "code",
   "execution_count": 245,
   "metadata": {},
   "outputs": [
    {
     "name": "stdout",
     "output_type": "stream",
     "text": [
      "Index(['Province/State', 'Country/Region', 'Lat', 'Long', '1/22/20', '1/23/20',\n",
      "       '1/24/20', '1/25/20', '1/26/20', '1/27/20',\n",
      "       ...\n",
      "       '5/20/20', '5/21/20', '5/22/20', '5/23/20', '5/24/20', '5/25/20',\n",
      "       '5/26/20', '5/27/20', '5/28/20', '5/29/20'],\n",
      "      dtype='object', length=133)\n"
     ]
    }
   ],
   "source": [
    "cols = confirmed_df.keys()\n",
    "print(cols)"
   ]
  },
  {
   "cell_type": "markdown",
   "metadata": {},
   "source": [
    "# Reading column values from Karnataka Dataset"
   ]
  },
  {
   "cell_type": "code",
   "execution_count": 246,
   "metadata": {},
   "outputs": [
    {
     "name": "stdout",
     "output_type": "stream",
     "text": [
      "Index(['Unnamed: 0', '04/01/2020', '04/02/2020', '04/03/2020', '04/04/2020',\n",
      "       '04/05/2020', '04/06/2020', '04/07/2020', '04/08/2020', '04/09/2020',\n",
      "       '04/10/2020', '04/11/2020', '04/12/2020', '04/13/2020', '04/14/2020',\n",
      "       '04/15/2020', '04/16/2020', '04/17/2020', '04/18/2020', '04/19/2020',\n",
      "       '04/20/2020', '04/21/2020', '04/22/2020', '04/23/2020', '04/24/2020',\n",
      "       '04/25/2020', '04/26/2020', '04/27/2020', '04/28/2020', '04/29/2020',\n",
      "       '04/30/2020', '05/01/2020', '05/02/2020', '05/03/2020', '05/04/2020',\n",
      "       '05/05/2020', '05/06/2020', '05/07/2020', '05/08/2020', '05/09/2020',\n",
      "       '05/10/2020', '05/11/2020', '05/12/2020', '05/13/2020', '05/14/2020',\n",
      "       '05/15/2020', '05/16/2020', '05/17/2020', '05/18/2020', '05/19/2020',\n",
      "       '05/20/2020', '05/21/2020', '05/22/2020', '05/23/2020', '05/24/2020',\n",
      "       '05/25/2020', '05/26/2020', '05/27/2020', '05/28/2020', '05/29/2020',\n",
      "       '05/30/2020', '05/31/2020'],\n",
      "      dtype='object')\n"
     ]
    }
   ],
   "source": [
    "cols_kar = confirmed_df_kar.keys()\n",
    "print(cols_kar)"
   ]
  },
  {
   "cell_type": "markdown",
   "metadata": {},
   "source": [
    "# Reading only the Indian data from the entire dataset"
   ]
  },
  {
   "cell_type": "code",
   "execution_count": 247,
   "metadata": {},
   "outputs": [],
   "source": [
    "confirmed = confirmed_df.loc[131, cols[4]:cols[-1]]\n"
   ]
  },
  {
   "cell_type": "code",
   "execution_count": 248,
   "metadata": {},
   "outputs": [],
   "source": [
    "deaths = deaths_df.loc[131:, cols[4]:cols[-1]]"
   ]
  },
  {
   "cell_type": "code",
   "execution_count": 249,
   "metadata": {},
   "outputs": [],
   "source": [
    "recoveries = recoveries_df.loc[131:, cols[4]:cols[-1]]\n"
   ]
  },
  {
   "cell_type": "markdown",
   "metadata": {},
   "source": [
    "# Reading the karnataka data from the dataset"
   ]
  },
  {
   "cell_type": "code",
   "execution_count": 250,
   "metadata": {},
   "outputs": [],
   "source": [
    "confirmed_kar = confirmed_df_kar.loc[0, cols_kar[1]:cols_kar[-1]]"
   ]
  },
  {
   "cell_type": "code",
   "execution_count": 251,
   "metadata": {},
   "outputs": [],
   "source": [
    "deaths_kar = deaths_df_kar.loc[0, cols_kar[1]:cols_kar[-1]]"
   ]
  },
  {
   "cell_type": "code",
   "execution_count": 252,
   "metadata": {},
   "outputs": [],
   "source": [
    "recoveries_kar = recoveries_df_kar.loc[0, cols_kar[1]:cols_kar[-1]]"
   ]
  },
  {
   "cell_type": "markdown",
   "metadata": {},
   "source": [
    "# Iterating through the number of cases in entire India and storing them"
   ]
  },
  {
   "cell_type": "code",
   "execution_count": 253,
   "metadata": {},
   "outputs": [
    {
     "name": "stderr",
     "output_type": "stream",
     "text": [
      "c:\\users\\vsulg\\appdata\\local\\programs\\python\\python37\\lib\\site-packages\\ipykernel_launcher.py:30: RuntimeWarning: invalid value encountered in longlong_scalars\n",
      "c:\\users\\vsulg\\appdata\\local\\programs\\python\\python37\\lib\\site-packages\\ipykernel_launcher.py:31: RuntimeWarning: invalid value encountered in longlong_scalars\n",
      "c:\\users\\vsulg\\appdata\\local\\programs\\python\\python37\\lib\\site-packages\\ipykernel_launcher.py:31: RuntimeWarning: divide by zero encountered in longlong_scalars\n"
     ]
    }
   ],
   "source": [
    "dates = confirmed.keys()\n",
    "world_cases= []\n",
    "total_deaths = [] \n",
    "mortality_rate = []\n",
    "recovery_rate = [] \n",
    "total_recovered = [] \n",
    "total_active = [] \n",
    "\n",
    "india_cases = [] \n",
    "\n",
    "\n",
    "india_deaths = []\n",
    "\n",
    "\n",
    "india_recoveries = [] \n",
    "\n",
    "\n",
    "for i in dates:\n",
    "    confirmed_sum = confirmed[i].sum()\n",
    "    death_sum = deaths[i].sum()\n",
    "    recovered_sum = recoveries[i].sum()\n",
    "    \n",
    "    # confirmed, deaths, recovered, and active\n",
    "    world_cases.append(confirmed_sum)\n",
    "    total_deaths.append(death_sum)\n",
    "    total_recovered.append(recovered_sum)\n",
    "    total_active.append(confirmed_sum-death_sum-recovered_sum)\n",
    "    \n",
    "    # calculate rates\n",
    "    mortality_rate.append(death_sum/confirmed_sum)\n",
    "    recovery_rate.append(recovered_sum/confirmed_sum)\n"
   ]
  },
  {
   "cell_type": "markdown",
   "metadata": {},
   "source": [
    "# Iterating through all the cases in Karnataka"
   ]
  },
  {
   "cell_type": "code",
   "execution_count": 254,
   "metadata": {},
   "outputs": [],
   "source": [
    "dates_kar = confirmed_kar.keys()\n",
    "kar_cases= []\n",
    "total_deaths_kar = [] \n",
    "mortality_rate_kar = []\n",
    "recovery_rate_kar = [] \n",
    "total_recovered_kar = [] \n",
    "total_active_kar = [] \n",
    "\n",
    "karnataka_cases = [] \n",
    "\n",
    "\n",
    "karnataka_deaths = []\n",
    "\n",
    "\n",
    "karnataka_recoveries = [] \n",
    "\n",
    "\n",
    "for i in dates_kar:\n",
    "    confirmed_sum_kar = confirmed_kar[i].sum()\n",
    "    death_sum_kar = deaths_kar[i].sum()\n",
    "    recovered_sum_kar = recoveries_kar[i].sum()\n",
    "    \n",
    "    # confirmed, deaths, recovered, and active\n",
    "    kar_cases.append(confirmed_sum_kar)\n",
    "    total_deaths_kar.append(death_sum_kar)\n",
    "    total_recovered_kar.append(recovered_sum_kar)\n",
    "    total_active_kar.append(confirmed_sum_kar-death_sum_kar-recovered_sum_kar)\n",
    "    \n",
    "    # calculate rates\n",
    "    mortality_rate_kar.append(death_sum/confirmed_sum)\n",
    "    recovery_rate_kar.append(recovered_sum/confirmed_sum)\n"
   ]
  },
  {
   "cell_type": "markdown",
   "metadata": {},
   "source": [
    "# Getting daily increases in India "
   ]
  },
  {
   "cell_type": "code",
   "execution_count": 255,
   "metadata": {},
   "outputs": [],
   "source": [
    "def daily_increase(data):\n",
    "    d = [] \n",
    "    for i in range(len(data)):\n",
    "        if i == 0:\n",
    "            d.append(data[0])\n",
    "        else:\n",
    "            d.append(data[i]-data[i-1])\n",
    "    return d \n",
    "\n",
    "# confirmed cases\n",
    "world_daily_increase = daily_increase(world_cases)\n",
    "\n",
    "\n",
    "# deaths\n",
    "world_daily_death = daily_increase(total_deaths)\n",
    "\n",
    "\n",
    "# recoveries\n",
    "world_daily_recovery = daily_increase(total_recovered)\n"
   ]
  },
  {
   "cell_type": "markdown",
   "metadata": {},
   "source": [
    "# Getting daily increases in Karnataka"
   ]
  },
  {
   "cell_type": "code",
   "execution_count": 256,
   "metadata": {},
   "outputs": [],
   "source": [
    "def daily_increase(data):\n",
    "    d = [] \n",
    "    for i in range(len(data)):\n",
    "        if i == 0:\n",
    "            d.append(data[0])\n",
    "        else:\n",
    "            d.append(data[i]-data[i-1])\n",
    "    return d \n",
    "\n",
    "# confirmed cases\n",
    "kar_daily_increase = daily_increase(kar_cases)\n",
    "\n",
    "\n",
    "# deaths\n",
    "kar_daily_death = daily_increase(total_deaths_kar)\n",
    "\n",
    "\n",
    "# recoveries\n",
    "kar_daily_recovery = daily_increase(total_recovered_kar)\n"
   ]
  },
  {
   "cell_type": "code",
   "execution_count": 257,
   "metadata": {},
   "outputs": [],
   "source": [
    "days_since_1_22 = np.array([i for i in range(len(dates))]).reshape(-1, 1)\n",
    "world_cases = np.array(world_cases).reshape(-1, 1)#-1 in reshape function is used when you dont know or want to explicitly tell the dimension of that axis\n",
    "total_deaths = np.array(total_deaths).reshape(-1, 1)#converts to a 1X1 matrix \n",
    "total_recovered = np.array(total_recovered).reshape(-1, 1)"
   ]
  },
  {
   "cell_type": "code",
   "execution_count": 258,
   "metadata": {},
   "outputs": [],
   "source": [
    "days_since_04_01 = np.array([i for i in range(len(dates_kar))]).reshape(-1, 1)\n",
    "kar_cases = np.array(kar_cases).reshape(-1, 1)#-1 in reshape function is used when you dont know or want to explicitly tell the dimension of that axis\n",
    "total_deaths_kar = np.array(total_deaths_kar).reshape(-1, 1)#converts to a 1X1 matrix \n",
    "total_recovered_kar = np.array(total_recovered_kar).reshape(-1, 1)"
   ]
  },
  {
   "cell_type": "markdown",
   "metadata": {},
   "source": [
    "# Future forcasting India"
   ]
  },
  {
   "cell_type": "code",
   "execution_count": 259,
   "metadata": {},
   "outputs": [],
   "source": [
    "days_in_future = 10\n",
    "future_forcast = np.array([i for i in range(len(dates)+days_in_future)]).reshape(-1, 1)\n",
    "adjusted_dates = future_forcast[:-10]"
   ]
  },
  {
   "cell_type": "markdown",
   "metadata": {},
   "source": [
    "# Future forcasting for karnataka"
   ]
  },
  {
   "cell_type": "code",
   "execution_count": 260,
   "metadata": {},
   "outputs": [],
   "source": [
    "days_in_future_kar = 10\n",
    "future_forcast_kar = np.array([i for i in range(len(dates_kar)+days_in_future_kar)]).reshape(-1, 1)\n",
    "adjusted_dates_kar = future_forcast_kar[:-10]"
   ]
  },
  {
   "cell_type": "markdown",
   "metadata": {},
   "source": [
    "# Convert integer into datetime for better visualization"
   ]
  },
  {
   "cell_type": "code",
   "execution_count": 261,
   "metadata": {},
   "outputs": [],
   "source": [
    "start = '1/22/2020'\n",
    "start_date = datetime.datetime.strptime(start, '%m/%d/%Y')\n",
    "future_forcast_dates = []\n",
    "for i in range(len(future_forcast)):\n",
    "    future_forcast_dates.append((start_date + datetime.timedelta(days=i)).strftime('%m/%d/%Y'))"
   ]
  },
  {
   "cell_type": "code",
   "execution_count": 262,
   "metadata": {},
   "outputs": [],
   "source": [
    "start = '04/01/2020'\n",
    "start_date = datetime.datetime.strptime(start, '%m/%d/%Y')\n",
    "future_forcast_dates_kar = []\n",
    "for i in range(len(future_forcast_kar)):\n",
    "    future_forcast_dates_kar.append((start_date + datetime.timedelta(days=i)).strftime('%m/%d/%Y'))"
   ]
  },
  {
   "cell_type": "markdown",
   "metadata": {},
   "source": [
    "# Splitting the data from the Indian data for testing and training "
   ]
  },
  {
   "cell_type": "code",
   "execution_count": 263,
   "metadata": {},
   "outputs": [],
   "source": [
    "X_train_confirmed, X_test_confirmed, y_train_confirmed, y_test_confirmed = train_test_split(days_since_1_22, world_cases, test_size=0.30, shuffle=False) "
   ]
  },
  {
   "cell_type": "markdown",
   "metadata": {},
   "source": [
    "# Splitting the data for training and testing - Karnataka data"
   ]
  },
  {
   "cell_type": "code",
   "execution_count": 264,
   "metadata": {},
   "outputs": [],
   "source": [
    "X_train_confirmed_kar, X_test_confirmed_kar, y_train_confirmed_kar, y_test_confirmed_kar = train_test_split(days_since_04_01, kar_cases, test_size=0.40, shuffle=False)"
   ]
  },
  {
   "cell_type": "markdown",
   "metadata": {},
   "source": [
    "# Using linear regressor on India Dataset"
   ]
  },
  {
   "cell_type": "code",
   "execution_count": 265,
   "metadata": {
    "scrolled": true
   },
   "outputs": [
    {
     "name": "stdout",
     "output_type": "stream",
     "text": [
      "MAE: 20513.314928615495\n",
      "MSE: 699318306.0925354\n"
     ]
    },
    {
     "data": {
      "text/plain": [
       "0.6603643108514949"
      ]
     },
     "execution_count": 265,
     "metadata": {},
     "output_type": "execute_result"
    }
   ],
   "source": [
    "# transform our data for polynomial regression\n",
    "poly = PolynomialFeatures(degree=5)\n",
    "poly_X_train_confirmed = poly.fit_transform(X_train_confirmed)\n",
    "poly_X_test_confirmed = poly.fit_transform(X_test_confirmed)\n",
    "poly_future_forcast = poly.fit_transform(future_forcast)\n",
    "\n",
    "# polynomial regression\n",
    "linear_model = LinearRegression(normalize=True, fit_intercept=False)\n",
    "linear_model.fit(poly_X_train_confirmed, y_train_confirmed)\n",
    "test_linear_pred = linear_model.predict(poly_X_test_confirmed)\n",
    "linear_pred = linear_model.predict(poly_future_forcast)\n",
    "print('MAE:', mean_absolute_error(test_linear_pred, y_test_confirmed))\n",
    "print('MSE:',mean_squared_error(test_linear_pred, y_test_confirmed))\n",
    "linear_model.score(poly_X_test_confirmed,y_test_confirmed)"
   ]
  },
  {
   "cell_type": "markdown",
   "metadata": {},
   "source": [
    "# Using linear regressor on Karnataka Dataset"
   ]
  },
  {
   "cell_type": "code",
   "execution_count": 266,
   "metadata": {},
   "outputs": [
    {
     "name": "stdout",
     "output_type": "stream",
     "text": [
      "MAE: 70.25195539378535\n",
      "MSE: 10893.675851003078\n"
     ]
    },
    {
     "data": {
      "text/plain": [
       "0.9771204069847605"
      ]
     },
     "execution_count": 266,
     "metadata": {},
     "output_type": "execute_result"
    }
   ],
   "source": [
    "# transform our data for polynomial regression\n",
    "poly_kar = PolynomialFeatures(degree=5)\n",
    "poly_X_train_confirmed_kar = poly.fit_transform(X_train_confirmed_kar)\n",
    "poly_X_test_confirmed_kar = poly.fit_transform(X_test_confirmed_kar)\n",
    "poly_future_forcast_kar = poly.fit_transform(future_forcast_kar)\n",
    "\n",
    "# polynomial regression\n",
    "linear_model = LinearRegression(normalize=True, fit_intercept=False)\n",
    "linear_model.fit(poly_X_train_confirmed_kar, y_train_confirmed_kar)\n",
    "test_linear_pred_kar = linear_model.predict(poly_X_test_confirmed_kar)\n",
    "linear_pred_kar = linear_model.predict(poly_future_forcast_kar)\n",
    "print('MAE:', mean_absolute_error(test_linear_pred_kar, y_test_confirmed_kar))\n",
    "print('MSE:',mean_squared_error(test_linear_pred_kar, y_test_confirmed_kar))\n",
    "linear_model.score(poly_X_test_confirmed_kar,y_test_confirmed_kar)"
   ]
  },
  {
   "cell_type": "markdown",
   "metadata": {},
   "source": [
    "# Using SVM on India Dataset"
   ]
  },
  {
   "cell_type": "code",
   "execution_count": 267,
   "metadata": {},
   "outputs": [
    {
     "name": "stderr",
     "output_type": "stream",
     "text": [
      "c:\\users\\vsulg\\appdata\\local\\programs\\python\\python37\\lib\\site-packages\\sklearn\\utils\\validation.py:760: DataConversionWarning: A column-vector y was passed when a 1d array was expected. Please change the shape of y to (n_samples, ), for example using ravel().\n",
      "  y = column_or_1d(y, warn=True)\n"
     ]
    },
    {
     "name": "stdout",
     "output_type": "stream",
     "text": [
      "MAE: 8714.924736861363\n",
      "MSE: 80972646.71804981\n"
     ]
    },
    {
     "data": {
      "text/plain": [
       "0.9606742731733604"
      ]
     },
     "execution_count": 267,
     "metadata": {},
     "output_type": "execute_result"
    }
   ],
   "source": [
    "# svm_confirmed = svm_search.best_estimator_\n",
    "svm_confirmed = SVR(shrinking=True, kernel='poly',gamma=0.01, epsilon=1,degree=7, C=0.1)\n",
    "svm_confirmed.fit(X_train_confirmed, y_train_confirmed)\n",
    "svm_pred = svm_confirmed.predict(future_forcast)\n",
    "\n",
    "# check against testing data\n",
    "svm_test_pred = svm_confirmed.predict(X_test_confirmed)\n",
    "print('MAE:', mean_absolute_error(svm_test_pred, y_test_confirmed))\n",
    "print('MSE:',mean_squared_error(svm_test_pred, y_test_confirmed))\n",
    "svm_confirmed.score(X_test_confirmed,y_test_confirmed)"
   ]
  },
  {
   "cell_type": "markdown",
   "metadata": {},
   "source": [
    "# Using SVM on Karnataka Dataset"
   ]
  },
  {
   "cell_type": "code",
   "execution_count": 268,
   "metadata": {},
   "outputs": [
    {
     "name": "stdout",
     "output_type": "stream",
     "text": [
      "MAE: 181.68441998739402\n",
      "MSE: 41899.28899820584\n"
     ]
    },
    {
     "name": "stderr",
     "output_type": "stream",
     "text": [
      "c:\\users\\vsulg\\appdata\\local\\programs\\python\\python37\\lib\\site-packages\\sklearn\\utils\\validation.py:760: DataConversionWarning: A column-vector y was passed when a 1d array was expected. Please change the shape of y to (n_samples, ), for example using ravel().\n",
      "  y = column_or_1d(y, warn=True)\n"
     ]
    },
    {
     "data": {
      "text/plain": [
       "0.9120004401619329"
      ]
     },
     "execution_count": 268,
     "metadata": {},
     "output_type": "execute_result"
    }
   ],
   "source": [
    "# svm_confirmed = svm_search.best_estimator_\n",
    "svm_confirmed_kar = SVR(shrinking=True, kernel='poly',gamma=0.01, epsilon=1,degree=3, C=0.09)\n",
    "svm_confirmed_kar.fit(X_train_confirmed_kar, y_train_confirmed_kar)\n",
    "svm_pred_kar = svm_confirmed_kar.predict(future_forcast_kar)\n",
    "\n",
    "# check against testing data\n",
    "svm_test_pred_kar = svm_confirmed_kar.predict(X_test_confirmed_kar)\n",
    "print('MAE:', mean_absolute_error(svm_test_pred_kar, y_test_confirmed_kar))\n",
    "print('MSE:',mean_squared_error(svm_test_pred_kar, y_test_confirmed_kar))\n",
    "svm_confirmed_kar.score(X_test_confirmed_kar,y_test_confirmed_kar)"
   ]
  },
  {
   "cell_type": "markdown",
   "metadata": {},
   "source": [
    "# Function to print graph"
   ]
  },
  {
   "cell_type": "code",
   "execution_count": 269,
   "metadata": {},
   "outputs": [],
   "source": [
    "def plot_predictions(x, y, pred, algo_name, color):\n",
    "    plt.figure(figsize=(16, 9))\n",
    "    plt.plot(x, y)\n",
    "    plt.plot(future_forcast, pred, linestyle='dashed', color=color)\n",
    "    plt.title('# of Coronavirus Cases Over Time', size=30)\n",
    "    plt.xlabel('Days Since 1/22/2020', size=30)\n",
    "    plt.ylabel('# of Cases', size=30)\n",
    "    plt.legend(['Confirmed Cases', algo_name], prop={'size': 20})\n",
    "    plt.xticks(size=20)\n",
    "    plt.yticks(size=20)\n",
    "    plt.show()"
   ]
  },
  {
   "cell_type": "markdown",
   "metadata": {},
   "source": [
    "# Final predictions at India level"
   ]
  },
  {
   "cell_type": "code",
   "execution_count": 270,
   "metadata": {},
   "outputs": [
    {
     "data": {
      "image/png": "[encoded data removed]",
      "text/plain": [
       "<Figure size 1152x648 with 1 Axes>"
      ]
     },
     "metadata": {
      "needs_background": "light"
     },
     "output_type": "display_data"
    }
   ],
   "source": [
    "plot_predictions(adjusted_dates, world_cases, svm_pred, 'SVM Predictions', 'black')"
   ]
  },
  {
   "cell_type": "code",
   "execution_count": 271,
   "metadata": {},
   "outputs": [
    {
     "data": {
      "image/png": "[encoded data removed]",
      "text/plain": [
       "<Figure size 1152x648 with 1 Axes>"
      ]
     },
     "metadata": {
      "needs_background": "light"
     },
     "output_type": "display_data"
    }
   ],
   "source": [
    "plot_predictions(adjusted_dates, world_cases, linear_pred, 'Polynomial Regression Predictions', 'black')"
   ]
  },
  {
   "cell_type": "code",
   "execution_count": 272,
   "metadata": {},
   "outputs": [
    {
     "data": {
      "text/html": [
       "<div>\n",
       "<style scoped>\n",
       "    .dataframe tbody tr th:only-of-type {\n",
       "        vertical-align: middle;\n",
       "    }\n",
       "\n",
       "    .dataframe tbody tr th {\n",
       "        vertical-align: top;\n",
       "    }\n",
       "\n",
       "    .dataframe thead th {\n",
       "        text-align: right;\n",
       "    }\n",
       "</style>\n",
       "<table border=\"1\" class=\"dataframe\">\n",
       "  <thead>\n",
       "    <tr style=\"text-align: right;\">\n",
       "      <th></th>\n",
       "      <th>Date</th>\n",
       "      <th>SVM Predicted # of Confirmed Cases Worldwide</th>\n",
       "    </tr>\n",
       "  </thead>\n",
       "  <tbody>\n",
       "    <tr>\n",
       "      <th>0</th>\n",
       "      <td>05/30/2020</td>\n",
       "      <td>179361.0</td>\n",
       "    </tr>\n",
       "    <tr>\n",
       "      <th>1</th>\n",
       "      <td>05/31/2020</td>\n",
       "      <td>189323.0</td>\n",
       "    </tr>\n",
       "    <tr>\n",
       "      <th>2</th>\n",
       "      <td>06/01/2020</td>\n",
       "      <td>199756.0</td>\n",
       "    </tr>\n",
       "    <tr>\n",
       "      <th>3</th>\n",
       "      <td>06/02/2020</td>\n",
       "      <td>210677.0</td>\n",
       "    </tr>\n",
       "    <tr>\n",
       "      <th>4</th>\n",
       "      <td>06/03/2020</td>\n",
       "      <td>222107.0</td>\n",
       "    </tr>\n",
       "    <tr>\n",
       "      <th>5</th>\n",
       "      <td>06/04/2020</td>\n",
       "      <td>234064.0</td>\n",
       "    </tr>\n",
       "    <tr>\n",
       "      <th>6</th>\n",
       "      <td>06/05/2020</td>\n",
       "      <td>246568.0</td>\n",
       "    </tr>\n",
       "    <tr>\n",
       "      <th>7</th>\n",
       "      <td>06/06/2020</td>\n",
       "      <td>259641.0</td>\n",
       "    </tr>\n",
       "    <tr>\n",
       "      <th>8</th>\n",
       "      <td>06/07/2020</td>\n",
       "      <td>273303.0</td>\n",
       "    </tr>\n",
       "    <tr>\n",
       "      <th>9</th>\n",
       "      <td>06/08/2020</td>\n",
       "      <td>287577.0</td>\n",
       "    </tr>\n",
       "  </tbody>\n",
       "</table>\n",
       "</div>"
      ],
      "text/plain": [
       "         Date  SVM Predicted # of Confirmed Cases Worldwide\n",
       "0  05/30/2020                                      179361.0\n",
       "1  05/31/2020                                      189323.0\n",
       "2  06/01/2020                                      199756.0\n",
       "3  06/02/2020                                      210677.0\n",
       "4  06/03/2020                                      222107.0\n",
       "5  06/04/2020                                      234064.0\n",
       "6  06/05/2020                                      246568.0\n",
       "7  06/06/2020                                      259641.0\n",
       "8  06/07/2020                                      273303.0\n",
       "9  06/08/2020                                      287577.0"
      ]
     },
     "execution_count": 272,
     "metadata": {},
     "output_type": "execute_result"
    }
   ],
   "source": [
    "# Future predictions using SVM \n",
    "svm_df = pd.DataFrame({'Date': future_forcast_dates[-10:], 'SVM Predicted # of Confirmed Cases Worldwide': np.round(svm_pred[-10:])})\n",
    "svm_df"
   ]
  },
  {
   "cell_type": "code",
   "execution_count": 273,
   "metadata": {},
   "outputs": [
    {
     "data": {
      "text/html": [
       "<div>\n",
       "<style scoped>\n",
       "    .dataframe tbody tr th:only-of-type {\n",
       "        vertical-align: middle;\n",
       "    }\n",
       "\n",
       "    .dataframe tbody tr th {\n",
       "        vertical-align: top;\n",
       "    }\n",
       "\n",
       "    .dataframe thead th {\n",
       "        text-align: right;\n",
       "    }\n",
       "</style>\n",
       "<table border=\"1\" class=\"dataframe\">\n",
       "  <thead>\n",
       "    <tr style=\"text-align: right;\">\n",
       "      <th></th>\n",
       "      <th>Date</th>\n",
       "      <th>Polynomial Predicted # of Confirmed Cases Worldwide</th>\n",
       "    </tr>\n",
       "  </thead>\n",
       "  <tbody>\n",
       "    <tr>\n",
       "      <th>0</th>\n",
       "      <td>05/30/2020</td>\n",
       "      <td>243614.0</td>\n",
       "    </tr>\n",
       "    <tr>\n",
       "      <th>1</th>\n",
       "      <td>05/31/2020</td>\n",
       "      <td>255718.0</td>\n",
       "    </tr>\n",
       "    <tr>\n",
       "      <th>2</th>\n",
       "      <td>06/01/2020</td>\n",
       "      <td>268290.0</td>\n",
       "    </tr>\n",
       "    <tr>\n",
       "      <th>3</th>\n",
       "      <td>06/02/2020</td>\n",
       "      <td>281342.0</td>\n",
       "    </tr>\n",
       "    <tr>\n",
       "      <th>4</th>\n",
       "      <td>06/03/2020</td>\n",
       "      <td>294890.0</td>\n",
       "    </tr>\n",
       "    <tr>\n",
       "      <th>5</th>\n",
       "      <td>06/04/2020</td>\n",
       "      <td>308945.0</td>\n",
       "    </tr>\n",
       "    <tr>\n",
       "      <th>6</th>\n",
       "      <td>06/05/2020</td>\n",
       "      <td>323523.0</td>\n",
       "    </tr>\n",
       "    <tr>\n",
       "      <th>7</th>\n",
       "      <td>06/06/2020</td>\n",
       "      <td>338637.0</td>\n",
       "    </tr>\n",
       "    <tr>\n",
       "      <th>8</th>\n",
       "      <td>06/07/2020</td>\n",
       "      <td>354302.0</td>\n",
       "    </tr>\n",
       "    <tr>\n",
       "      <th>9</th>\n",
       "      <td>06/08/2020</td>\n",
       "      <td>370532.0</td>\n",
       "    </tr>\n",
       "  </tbody>\n",
       "</table>\n",
       "</div>"
      ],
      "text/plain": [
       "         Date  Polynomial Predicted # of Confirmed Cases Worldwide\n",
       "0  05/30/2020                                           243614.0  \n",
       "1  05/31/2020                                           255718.0  \n",
       "2  06/01/2020                                           268290.0  \n",
       "3  06/02/2020                                           281342.0  \n",
       "4  06/03/2020                                           294890.0  \n",
       "5  06/04/2020                                           308945.0  \n",
       "6  06/05/2020                                           323523.0  \n",
       "7  06/06/2020                                           338637.0  \n",
       "8  06/07/2020                                           354302.0  \n",
       "9  06/08/2020                                           370532.0  "
      ]
     },
     "execution_count": 273,
     "metadata": {},
     "output_type": "execute_result"
    }
   ],
   "source": [
    "# Future predictions using polynomial regression\n",
    "linear_pred = linear_pred.reshape(1,-1)[0]\n",
    "svm_df = pd.DataFrame({'Date': future_forcast_dates[-10:], 'Polynomial Predicted # of Confirmed Cases Worldwide': np.round(linear_pred[-10:])})\n",
    "svm_df"
   ]
  },
  {
   "cell_type": "markdown",
   "metadata": {},
   "source": [
    "# Function to plot graph"
   ]
  },
  {
   "cell_type": "code",
   "execution_count": 274,
   "metadata": {},
   "outputs": [],
   "source": [
    "def plot_predictions_kar(x, y, pred, algo_name, color):\n",
    "    plt.figure(figsize=(16, 9))\n",
    "    plt.plot(x, y)\n",
    "    plt.plot(future_forcast_kar, pred, linestyle='dashed', color=color)\n",
    "    plt.title('Cases of Coronavirus Cases Over Time', size=30)\n",
    "    plt.xlabel('Days Since 04/01/2020', size=30)\n",
    "    plt.ylabel('Number of Cases', size=30)\n",
    "    plt.legend(['Confirmed Cases', algo_name], prop={'size': 20})\n",
    "    plt.xticks(size=20)\n",
    "    plt.yticks(size=20)\n",
    "    plt.show()"
   ]
  },
  {
   "cell_type": "markdown",
   "metadata": {},
   "source": [
    "# Final predictions at karnataka level"
   ]
  },
  {
   "cell_type": "code",
   "execution_count": null,
   "metadata": {},
   "outputs": [],
   "source": [
    "plot_predictions_kar(adjusted_dates_kar, kar_cases, svm_pred_kar, 'SVM Predictions', 'black')"
   ]
  },
  {
   "cell_type": "code",
   "execution_count": 276,
   "metadata": {},
   "outputs": [
    {
     "data": {
      "image/png": "[encoded data removed]",
      "text/plain": [
       "<Figure size 1152x648 with 1 Axes>"
      ]
     },
     "metadata": {
      "needs_background": "light"
     },
     "output_type": "display_data"
    }
   ],
   "source": [
    "plot_predictions_kar(adjusted_dates_kar, kar_cases, linear_pred_kar, 'Linear Predictions', 'black')"
   ]
  },
  {
   "cell_type": "code",
   "execution_count": 277,
   "metadata": {},
   "outputs": [
    {
     "data": {
      "text/html": [
       "<div>\n",
       "<style scoped>\n",
       "    .dataframe tbody tr th:only-of-type {\n",
       "        vertical-align: middle;\n",
       "    }\n",
       "\n",
       "    .dataframe tbody tr th {\n",
       "        vertical-align: top;\n",
       "    }\n",
       "\n",
       "    .dataframe thead th {\n",
       "        text-align: right;\n",
       "    }\n",
       "</style>\n",
       "<table border=\"1\" class=\"dataframe\">\n",
       "  <thead>\n",
       "    <tr style=\"text-align: right;\">\n",
       "      <th></th>\n",
       "      <th>Date</th>\n",
       "      <th>SVM Predicted # of Confirmed Cases in Karnataka State</th>\n",
       "    </tr>\n",
       "  </thead>\n",
       "  <tbody>\n",
       "    <tr>\n",
       "      <th>0</th>\n",
       "      <td>06/01/2020</td>\n",
       "      <td>3091.0</td>\n",
       "    </tr>\n",
       "    <tr>\n",
       "      <th>1</th>\n",
       "      <td>06/02/2020</td>\n",
       "      <td>3238.0</td>\n",
       "    </tr>\n",
       "    <tr>\n",
       "      <th>2</th>\n",
       "      <td>06/03/2020</td>\n",
       "      <td>3390.0</td>\n",
       "    </tr>\n",
       "    <tr>\n",
       "      <th>3</th>\n",
       "      <td>06/04/2020</td>\n",
       "      <td>3547.0</td>\n",
       "    </tr>\n",
       "    <tr>\n",
       "      <th>4</th>\n",
       "      <td>06/05/2020</td>\n",
       "      <td>3708.0</td>\n",
       "    </tr>\n",
       "    <tr>\n",
       "      <th>5</th>\n",
       "      <td>06/06/2020</td>\n",
       "      <td>3875.0</td>\n",
       "    </tr>\n",
       "    <tr>\n",
       "      <th>6</th>\n",
       "      <td>06/07/2020</td>\n",
       "      <td>4047.0</td>\n",
       "    </tr>\n",
       "    <tr>\n",
       "      <th>7</th>\n",
       "      <td>06/08/2020</td>\n",
       "      <td>4224.0</td>\n",
       "    </tr>\n",
       "    <tr>\n",
       "      <th>8</th>\n",
       "      <td>06/09/2020</td>\n",
       "      <td>4407.0</td>\n",
       "    </tr>\n",
       "    <tr>\n",
       "      <th>9</th>\n",
       "      <td>06/10/2020</td>\n",
       "      <td>4595.0</td>\n",
       "    </tr>\n",
       "  </tbody>\n",
       "</table>\n",
       "</div>"
      ],
      "text/plain": [
       "         Date  SVM Predicted # of Confirmed Cases in Karnataka State\n",
       "0  06/01/2020                                             3091.0    \n",
       "1  06/02/2020                                             3238.0    \n",
       "2  06/03/2020                                             3390.0    \n",
       "3  06/04/2020                                             3547.0    \n",
       "4  06/05/2020                                             3708.0    \n",
       "5  06/06/2020                                             3875.0    \n",
       "6  06/07/2020                                             4047.0    \n",
       "7  06/08/2020                                             4224.0    \n",
       "8  06/09/2020                                             4407.0    \n",
       "9  06/10/2020                                             4595.0    "
      ]
     },
     "execution_count": 277,
     "metadata": {},
     "output_type": "execute_result"
    }
   ],
   "source": [
    "# Future predictions using SVM \n",
    "svm_df_kar = pd.DataFrame({'Date': future_forcast_dates_kar[-10:], 'SVM Predicted # of Confirmed Cases in Karnataka State': np.round(svm_pred_kar[-10:])})\n",
    "svm_df_kar"
   ]
  },
  {
   "cell_type": "code",
   "execution_count": 278,
   "metadata": {},
   "outputs": [
    {
     "data": {
      "text/html": [
       "<div>\n",
       "<style scoped>\n",
       "    .dataframe tbody tr th:only-of-type {\n",
       "        vertical-align: middle;\n",
       "    }\n",
       "\n",
       "    .dataframe tbody tr th {\n",
       "        vertical-align: top;\n",
       "    }\n",
       "\n",
       "    .dataframe thead th {\n",
       "        text-align: right;\n",
       "    }\n",
       "</style>\n",
       "<table border=\"1\" class=\"dataframe\">\n",
       "  <thead>\n",
       "    <tr style=\"text-align: right;\">\n",
       "      <th></th>\n",
       "      <th>Date</th>\n",
       "      <th>Polynomial Predicted # of Confirmed Cases in Karnataka State</th>\n",
       "    </tr>\n",
       "  </thead>\n",
       "  <tbody>\n",
       "    <tr>\n",
       "      <th>0</th>\n",
       "      <td>06/01/2020</td>\n",
       "      <td>3204.0</td>\n",
       "    </tr>\n",
       "    <tr>\n",
       "      <th>1</th>\n",
       "      <td>06/02/2020</td>\n",
       "      <td>3482.0</td>\n",
       "    </tr>\n",
       "    <tr>\n",
       "      <th>2</th>\n",
       "      <td>06/03/2020</td>\n",
       "      <td>3785.0</td>\n",
       "    </tr>\n",
       "    <tr>\n",
       "      <th>3</th>\n",
       "      <td>06/04/2020</td>\n",
       "      <td>4116.0</td>\n",
       "    </tr>\n",
       "    <tr>\n",
       "      <th>4</th>\n",
       "      <td>06/05/2020</td>\n",
       "      <td>4475.0</td>\n",
       "    </tr>\n",
       "    <tr>\n",
       "      <th>5</th>\n",
       "      <td>06/06/2020</td>\n",
       "      <td>4864.0</td>\n",
       "    </tr>\n",
       "    <tr>\n",
       "      <th>6</th>\n",
       "      <td>06/07/2020</td>\n",
       "      <td>5287.0</td>\n",
       "    </tr>\n",
       "    <tr>\n",
       "      <th>7</th>\n",
       "      <td>06/08/2020</td>\n",
       "      <td>5744.0</td>\n",
       "    </tr>\n",
       "    <tr>\n",
       "      <th>8</th>\n",
       "      <td>06/09/2020</td>\n",
       "      <td>6238.0</td>\n",
       "    </tr>\n",
       "    <tr>\n",
       "      <th>9</th>\n",
       "      <td>06/10/2020</td>\n",
       "      <td>6771.0</td>\n",
       "    </tr>\n",
       "  </tbody>\n",
       "</table>\n",
       "</div>"
      ],
      "text/plain": [
       "         Date  Polynomial Predicted # of Confirmed Cases in Karnataka State\n",
       "0  06/01/2020                                             3204.0           \n",
       "1  06/02/2020                                             3482.0           \n",
       "2  06/03/2020                                             3785.0           \n",
       "3  06/04/2020                                             4116.0           \n",
       "4  06/05/2020                                             4475.0           \n",
       "5  06/06/2020                                             4864.0           \n",
       "6  06/07/2020                                             5287.0           \n",
       "7  06/08/2020                                             5744.0           \n",
       "8  06/09/2020                                             6238.0           \n",
       "9  06/10/2020                                             6771.0           "
      ]
     },
     "execution_count": 278,
     "metadata": {},
     "output_type": "execute_result"
    }
   ],
   "source": [
    "# Future predictions using polynomial regression\n",
    "linear_pred_kar = linear_pred_kar.reshape(1,-1)[0]\n",
    "svm_df_kar = pd.DataFrame({'Date': future_forcast_dates_kar[-10:], 'Polynomial Predicted # of Confirmed Cases in Karnataka State': np.round(linear_pred_kar[-10:])})\n",
    "svm_df_kar"
   ]
  },
  {
   "cell_type": "markdown",
   "metadata": {},
   "source": [
    "# THANK YOU"
   ]
  }
 ],
 "metadata": {
  "kernelspec": {
   "display_name": "Python 3",
   "language": "python",
   "name": "python3"
  },
  "language_info": {
   "codemirror_mode": {
    "name": "ipython",
    "version": 3
   },
   "file_extension": ".py",
   "mimetype": "text/x-python",
   "name": "python",
   "nbconvert_exporter": "python",
   "pygments_lexer": "ipython3",
   "version": "3.7.1"
  }
 },
 "nbformat": 4,
 "nbformat_minor": 2
}
